{
 "cells": [
  {
   "cell_type": "code",
   "execution_count": 2,
   "metadata": {},
   "outputs": [],
   "source": [
    "from math import comb, perm, factorial"
   ]
  },
  {
   "cell_type": "markdown",
   "metadata": {},
   "source": [
    "## 10. Sólo para practicar. Se tiene la palabra MURCIÉLAGO. Si no se permiten repeticiones al usar las letras que la forman, determina:"
   ]
  },
  {
   "cell_type": "markdown",
   "metadata": {},
   "source": [
    "- **a) El número de palabras que puedes crear.**"
   ]
  },
  {
   "cell_type": "markdown",
   "metadata": {},
   "source": [
    "Para el numero de palabras que se pueden crear sin repeticiones, solo se deben de calcular las permutaciones de sus elementos(letras) de la palabra \"MURCIELAGO\"."
   ]
  },
  {
   "cell_type": "markdown",
   "metadata": {},
   "source": [
    "$$\n",
    "    (P)10 = 10!\\\\    \n",
    "$$"
   ]
  },
  {
   "cell_type": "markdown",
   "metadata": {},
   "source": [
    "$$\n",
    "10! = 10 \\cdot 9 \\cdot 8 \\cdot 7 \\cdot 6 \\cdot 5 \\cdot 4 \\cdot 3 \\cdot 2 \\cdot 1 = 3628800\\\\\n",
    "$$"
   ]
  },
  {
   "cell_type": "markdown",
   "metadata": {},
   "source": [
    "3628800 es el número de palabras que se pueden crear."
   ]
  },
  {
   "cell_type": "code",
   "execution_count": 3,
   "metadata": {},
   "outputs": [
    {
     "name": "stdout",
     "output_type": "stream",
     "text": [
      "a) 3628800\n"
     ]
    }
   ],
   "source": [
    "## Codigo que resuelve el inciso a)\n",
    "numeroLetras = len('MURCIÉLAGO')\n",
    "vocales = 5\n",
    "\n",
    "numeroPalabras = factorial(numeroLetras)\n",
    "print(\"a)\", numeroPalabras)"
   ]
  },
  {
   "cell_type": "markdown",
   "metadata": {},
   "source": [
    "- **b) El número de palabras con cinco letras.**"
   ]
  },
  {
   "cell_type": "markdown",
   "metadata": {},
   "source": [
    "Para cada grupo de palabras de 5 letras de la palabra \"MURCIELAGO\" sin que se repita ninguno de sus elementos. "
   ]
  },
  {
   "cell_type": "markdown",
   "metadata": {},
   "source": [
    "$$\n",
    "        _{10}C_{5} = \\dfrac{10!}{(10 - 5)!} = \\dfrac{10!}{5!}\\\\\n",
    "$$"
   ]
  },
  {
   "cell_type": "markdown",
   "metadata": {},
   "source": [
    "Se debe de se sabe que: \n",
    "$$\n",
    "    10! = 3628800\n",
    "$$"
   ]
  },
  {
   "cell_type": "markdown",
   "metadata": {},
   "source": [
    "Y para sacar el factorial de 5 se hace el procedimiento parecido al inciso a)\n",
    "$$\n",
    "    5! = 5 \\cdot 4 \\cdot 3 \\cdot 2 \\cdot 1 = 120\n",
    "$$"
   ]
  },
  {
   "cell_type": "markdown",
   "metadata": {},
   "source": [
    "Entonces, simplificando la formula quedaría de la siguiente manera:\n",
    "$$\n",
    "    _{10}C_{5}  = \\dfrac{3628800}{120}\\\\\n",
    "$$"
   ]
  },
  {
   "cell_type": "markdown",
   "metadata": {},
   "source": [
    "$$\n",
    "        _{10}C_{5}  = 30240\\\\\n",
    "$$"
   ]
  },
  {
   "cell_type": "markdown",
   "metadata": {},
   "source": [
    "Entonces, el núimero de palabras que se pueden hacer con 5 letras sin que se repitan es de 30240."
   ]
  },
  {
   "cell_type": "code",
   "execution_count": 4,
   "metadata": {},
   "outputs": [
    {
     "name": "stdout",
     "output_type": "stream",
     "text": [
      "b) 30240\n"
     ]
    }
   ],
   "source": [
    "## Codigo que resuelve el inciso b)\n",
    "numeroLetras = len('MURCIÉLAGO')\n",
    "vocales = 5\n",
    "\n",
    "numeroPalabras5Letras = perm(numeroLetras, 5)\n",
    "print(\"b)\", numeroPalabras5Letras)"
   ]
  },
  {
   "cell_type": "markdown",
   "metadata": {},
   "source": [
    "- **c) La probabilidad de que una palabra de cinco letras termine en vocal.**"
   ]
  },
  {
   "cell_type": "markdown",
   "metadata": {},
   "source": [
    "Tomamos en cuenta el numero de palabras que se pueden formar con 5 leras que son 30240. Despues contaremos el número de palabras de 5 letras y que terminenn en vocal, tenemos 5 vocales dentro de la palabra \"MURCIELAGO\", las cuales son: A, E, I, O, U."
   ]
  },
  {
   "cell_type": "markdown",
   "metadata": {},
   "source": [
    "El número de maneras de escoger una vocal para el último lugar es 5."
   ]
  },
  {
   "cell_type": "markdown",
   "metadata": {},
   "source": [
    "Para sacar el numero de letras se agarra una vocal para terminar, eso quiere decir que permutaremos las 4 letras de las 9 restantes, ya que hemos tomado una para el final.\n",
    "$$\n",
    "       _{9}C_{4}  = \\dfrac{9!}{(9 - 4)!} = \\dfrac{9!}{5!}\\\\\n",
    "$$"
   ]
  },
  {
   "cell_type": "markdown",
   "metadata": {},
   "source": [
    "Sabemos que el factrial de 5 es 120, pero falta el factorial de 9:\n",
    "\n",
    "$$\n",
    "    9! = 9 \\cdot 8 \\cdot 7 \\cdot 6 \\cdot 5 \\cdot 4 \\cdot 3 \\cdot 2 \\cdot 1 = 362880\n",
    "$$"
   ]
  },
  {
   "cell_type": "markdown",
   "metadata": {},
   "source": [
    "entonces:\n",
    "$$\n",
    "    _{9}C_{4}  = \\dfrac{62880}{120} = 3024\\\\\n",
    "$$"
   ]
  },
  {
   "cell_type": "markdown",
   "metadata": {},
   "source": [
    "Ahora multiplicamos el resultado con las 5 maneras de elegir una vocal para el ultimo lugar:\n",
    "\n",
    "$$\n",
    "    5 \\times 3024 = 15120\n",
    "$$"
   ]
  },
  {
   "cell_type": "markdown",
   "metadata": {},
   "source": [
    "Esto quiere decir que existen **15120** de palabras que pueden tener una terminacion en vocal"
   ]
  },
  {
   "cell_type": "markdown",
   "metadata": {},
   "source": [
    "La probabilidad de que una palabra de cinco letras termine en una vocal es el número de palabras que terminan en una vocal dividido por el número total de palabras de cinco letras, o sea:\n",
    "$$\n",
    "    Probabilidad = \\dfrac {15120}{30240} = \\dfrac {1}{2} = 0.5\n",
    "$$"
   ]
  },
  {
   "cell_type": "markdown",
   "metadata": {},
   "source": [
    "Entonces la probabilidad de que una palabra de 5 letras termine en una vocal de la palabra \"MURCIELAGO\" es del 50%."
   ]
  },
  {
   "cell_type": "code",
   "execution_count": 5,
   "metadata": {},
   "outputs": [
    {
     "name": "stdout",
     "output_type": "stream",
     "text": [
      "c) 0.004166666666666667\n"
     ]
    }
   ],
   "source": [
    "## Codigo que recuelve el inciso b)\n",
    "numeroLetras = len('MURCIÉLAGO')\n",
    "vocales = 5\n",
    "\n",
    "numeroPalabras5LetrasVocal = perm(9, 4) * 5\n",
    "probabilidadTerminaEnVocal = numeroPalabras5LetrasVocal / numeroPalabras\n",
    "print(\"c)\", probabilidadTerminaEnVocal)"
   ]
  }
 ],
 "metadata": {
  "kernelspec": {
   "display_name": "Python 3 (ipykernel)",
   "language": "python",
   "name": "python3"
  },
  "language_info": {
   "codemirror_mode": {
    "name": "ipython",
    "version": 3
   },
   "file_extension": ".py",
   "mimetype": "text/x-python",
   "name": "python",
   "nbconvert_exporter": "python",
   "pygments_lexer": "ipython3",
   "version": "3.11.4"
  }
 },
 "nbformat": 4,
 "nbformat_minor": 4
}
