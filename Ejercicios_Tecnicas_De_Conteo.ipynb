{
 "cells": [
  {
   "cell_type": "markdown",
   "id": "51290129-2a87-4bc4-8fb9-4402a55fa74a",
   "metadata": {},
   "source": [
    "## **Menu**  \n",
    "- [Ejercicio 9](#ex_09)\n",
    "- [Ejercicio 10](#ex_10)\n",
    "- [Ejercicio 11](#ex_11)\n",
    "- [Ejercicio 12](#ex_12)\n",
    "- [Ejercicio 13](#ex_13)\n",
    "- [Ejercicio 14](#ex_14)\n",
    "- [Ejercicio 15](#ex_15)\n",
    "- [Ejercicio 16](#ex_16)\n",
    "- [Ejercicio 17](#ex_17)"
   ]
  },
  {
   "cell_type": "code",
   "execution_count": 1,
   "id": "4dab4c30-b1dc-4534-bb11-02150a5f4e64",
   "metadata": {},
   "outputs": [],
   "source": [
    "from math import comb, perm, factorial"
   ]
  },
  {
   "cell_type": "markdown",
   "id": "55a530dd-4455-46d9-9adc-6208957f91fa",
   "metadata": {},
   "source": [
    "<div id=ex_09></div>  \n",
    "\n",
    "---  \n",
    "<span style=\"color: #2168ff; font-size: 23px; font-weight: 600;\">Ejercicio 9</span>  "
   ]
  },
  {
   "cell_type": "markdown",
   "id": "c8d1ab1c-a6bb-4abe-ac35-e4c002d8a18b",
   "metadata": {},
   "source": [
    "*Sólo para prácticar.* Los números telefónicos en la ciudad de Cuernavaca, Morelos, constan de \n",
    " siete dígitos.\n",
    "\n"
   ]
  },
  {
   "cell_type": "markdown",
   "id": "01a3f66e-2f19-4774-aed2-8203ca55dd04",
   "metadata": {},
   "source": [
    "a)  ¿Cuántas líneas telefónicas pueden crearse en esa ciudad? Recuerda que no pueden comenzar con cero.\n"
   ]
  },
  {
   "cell_type": "markdown",
   "id": "50d7a3c8-5cb2-4437-ad7b-ea740f2b15ca",
   "metadata": {},
   "source": [
    "Para poder calcular el total de lineas telefónicas que se pueden crear en Cuernavaca, debemos considerar, según el ejercicio, que no debe comenzar en 0, por tanto el primero empezará con 9 posibles opciones mientras que el resto tendran las 10 opcines (0-9).\n",
    "entonces tendremos algo parecido a lo siguiente: \n",
    "$$\n",
    "\\begin{align}\n",
    "    9 \\cdot 10 \\cdot 10  \\cdot 10 \\cdot 10 \\cdot 10 \\cdot 10  = 9000000.\n",
    "\\end{align}\n",
    "$$\n",
    "o lo equivalente a: \n",
    "\n",
    " $$\n",
    "\\begin{align}\n",
    "    9 \\cdot 10^6  = 9000000.\n",
    "\\end{align}\n",
    "$$\n",
    "Esto debido a que existen 6 espacios con 10 opciones,  es decir del (0-9), mientras que el primer digito solo cuenta con 9 dado que no se toma en cuenta el 0.    Lo que nos deja como resultado que se pueden crear 9000000 lineas telefónicas en Cuernavaca"
   ]
  },
  {
   "cell_type": "code",
   "execution_count": 25,
   "id": "9e485128-c6e1-4fd2-9960-a86774d7f47e",
   "metadata": {},
   "outputs": [
    {
     "name": "stdout",
     "output_type": "stream",
     "text": [
      "Hay 9000000 lineas telefónicas, tomando en cuenta que no empiezan con 0 \n"
     ]
    }
   ],
   "source": [
    "# Implementacion de la solucion del inciso a) del ejercicio 9\n",
    "\n",
    "print(f'Hay {(9*(10**6))} lineas telefónicas, tomando en cuenta que no empiezan con 0 ')"
   ]
  },
  {
   "cell_type": "markdown",
   "id": "1af29e85-50df-4e97-bf85-00c8e5419a05",
   "metadata": {},
   "source": [
    "b)Si los tres primeros dígitos representan una zona de Cuernavaca, ¿cuántas líneas telefónicas pertenecen a la zona 326?"
   ]
  },
  {
   "cell_type": "markdown",
   "id": "cd21aeb5-d49b-4d26-a50f-d7157b599d04",
   "metadata": {},
   "source": [
    "El ejercico dice que solo podemos hacer convinaciones de 7 digitos, sin embargo, para este inciso solo podremos\n",
    "usar 4, dado que los 3 primeros digitos serán ocupados por los números 3,2,6 , lo que nos deja 10 opciones para los 4 \n",
    "digitos restantes. quedando de la siguiente manera:\n",
    "$$\n",
    "\\begin{align}\n",
    "    10 \\cdot 10  \\cdot 10 \\cdot 10  = 10,000.\n",
    "\\end{align}\n",
    "$$\n",
    "o lo equivalente a: \n",
    "\n",
    " $$\n",
    "\\begin{align}\n",
    "    10^4  = 10,000.\n",
    "\\end{align}\n",
    "$$\n",
    "Por tanto la cantidad de lineas telefónicas que pertenecen a la zona 326, son 10,000\n"
   ]
  },
  {
   "cell_type": "code",
   "execution_count": 28,
   "id": "2c9705cf-703e-4097-aa44-d6bdc3c73d0a",
   "metadata": {},
   "outputs": [
    {
     "name": "stdout",
     "output_type": "stream",
     "text": [
      "Hay 10000 lineas telefónicas pertenecientes a la zona 326 \n"
     ]
    }
   ],
   "source": [
    "# Implementacion de la solucion del inciso b) del ejercicio 9\n",
    "\n",
    "print(f'Hay {((10**4))} lineas telefónicas pertenecientes a la zona 326 ')"
   ]
  },
  {
   "cell_type": "markdown",
   "id": "9e9c8449-3e23-4425-aded-4722a9cc9315",
   "metadata": {},
   "source": [
    "\n",
    "\n"
   ]
  },
  {
   "cell_type": "markdown",
   "id": "779ae40e-b1f5-4d62-b052-c27a96852085",
   "metadata": {},
   "source": [
    "<div id=ex_10></div>  \n",
    "\n",
    "---  \n",
    "<span style=\"color: #2168ff; font-size: 23px; font-weight: 600;\">Ejercicio 10</span>  \n",
    "*Sólo para practicar.* Se tiene la palabra MURCIÉLAGO. Si no se permiten repeticiones al usar las letras que la forman, determina:"
   ]
  },
  {
   "cell_type": "markdown",
   "id": "7d241f37-7fce-43bf-b466-37b6d7e0fe23",
   "metadata": {},
   "source": [
    "- **a) El número de palabras que puedes crear.**"
   ]
  },
  {
   "cell_type": "markdown",
   "id": "ff7c5e08-bb9a-4488-ab9f-15d228d0d623",
   "metadata": {},
   "source": [
    "Para el numero de palabras que se pueden crear sin repeticiones, solo se deben de calcular las permutaciones de sus elementos(letras) de la palabra \"MURCIELAGO\"."
   ]
  },
  {
   "cell_type": "markdown",
   "id": "a879a2b8-6bf7-4682-abf8-28470ddf32c0",
   "metadata": {},
   "source": [
    "$$\n",
    "    (P)10 = 10!\\\\    \n",
    "$$"
   ]
  },
  {
   "cell_type": "markdown",
   "id": "b49f64a6-5034-4552-8324-20b5665fe81e",
   "metadata": {},
   "source": [
    "$$\n",
    "10! = 10 \\cdot 9 \\cdot 8 \\cdot 7 \\cdot 6 \\cdot 5 \\cdot 4 \\cdot 3 \\cdot 2 \\cdot 1 = 3628800\\\\\n",
    "$$"
   ]
  },
  {
   "cell_type": "markdown",
   "id": "fde48b5a-a93b-4b0d-85aa-656e293d0285",
   "metadata": {},
   "source": [
    "3628800 es el número de palabras que se pueden crear."
   ]
  },
  {
   "cell_type": "code",
   "execution_count": 3,
   "id": "18bbb5d2-44b8-4e2f-a3ce-c9df81175462",
   "metadata": {},
   "outputs": [
    {
     "name": "stdout",
     "output_type": "stream",
     "text": [
      "a) 3628800\n"
     ]
    }
   ],
   "source": [
    "## Codigo que resuelve el inciso a)\n",
    "numeroLetras = len('MURCIÉLAGO')\n",
    "vocales = 5\n",
    "\n",
    "numeroPalabras = factorial(numeroLetras)\n",
    "print(\"a)\", numeroPalabras)"
   ]
  },
  {
   "cell_type": "markdown",
   "id": "9712e510-83a1-43c4-afb9-5b84b1ca542c",
   "metadata": {},
   "source": [
    "- **b) El número de palabras con cinco letras.**"
   ]
  },
  {
   "cell_type": "markdown",
   "id": "b3a9c3cb-d0c6-48e1-8ee6-34f19911c1c9",
   "metadata": {},
   "source": [
    "Para cada grupo de palabras de 5 letras de la palabra \"MURCIELAGO\" sin que se repita ninguno de sus elementos. "
   ]
  },
  {
   "cell_type": "markdown",
   "id": "4c77cd78-a3c6-4737-8f76-e9877cd5867a",
   "metadata": {},
   "source": [
    "$$\n",
    "        _{10}C_{5} = \\dfrac{10!}{(10 - 5)!} = \\dfrac{10!}{5!}\\\\\n",
    "$$"
   ]
  },
  {
   "cell_type": "markdown",
   "id": "60f45e69-8d57-4a49-ba9d-21e665beb0f0",
   "metadata": {},
   "source": [
    "Se debe de se sabe que: \n",
    "$$\n",
    "    10! = 3628800\n",
    "$$"
   ]
  },
  {
   "cell_type": "markdown",
   "id": "81fbc001-c423-410a-8249-438a98a2655a",
   "metadata": {},
   "source": [
    "Y para sacar el factorial de 5 se hace el procedimiento parecido al inciso a)\n",
    "$$\n",
    "    5! = 5 \\cdot 4 \\cdot 3 \\cdot 2 \\cdot 1 = 120\n",
    "$$"
   ]
  },
  {
   "cell_type": "markdown",
   "id": "297cda3a-f608-465f-b8dd-67aa4eb20c39",
   "metadata": {},
   "source": [
    "Entonces, simplificando la formula quedaría de la siguiente manera:\n",
    "$$\n",
    "    _{10}C_{5}  = \\dfrac{3628800}{120}\\\\\n",
    "$$"
   ]
  },
  {
   "cell_type": "markdown",
   "id": "ddeee7de-f2a3-4aed-b097-cb17927f6531",
   "metadata": {},
   "source": [
    "$$\n",
    "        _{10}C_{5}  = 30240\\\\\n",
    "$$"
   ]
  },
  {
   "cell_type": "markdown",
   "id": "f4bdbfad-fe39-478c-b150-500b07c54d8b",
   "metadata": {},
   "source": [
    "Entonces, el núimero de palabras que se pueden hacer con 5 letras sin que se repitan es de 30240."
   ]
  },
  {
   "cell_type": "code",
   "execution_count": 4,
   "id": "6b74f1ed-f1cf-4b09-8d3a-5d5b77430afb",
   "metadata": {},
   "outputs": [
    {
     "name": "stdout",
     "output_type": "stream",
     "text": [
      "b) 30240\n"
     ]
    }
   ],
   "source": [
    "## Codigo que resuelve el inciso b)\n",
    "numeroLetras = len('MURCIÉLAGO')\n",
    "vocales = 5\n",
    "\n",
    "numeroPalabras5Letras = perm(numeroLetras, 5)\n",
    "print(\"b)\", numeroPalabras5Letras)"
   ]
  },
  {
   "cell_type": "markdown",
   "id": "1bffc2a6-43a4-4f64-bae3-54e849574b80",
   "metadata": {},
   "source": [
    "- **c) La probabilidad de que una palabra de cinco letras termine en vocal.**"
   ]
  },
  {
   "cell_type": "markdown",
   "id": "f62e6a55-95cc-4d67-96f9-ad7632972e75",
   "metadata": {},
   "source": [
    "Tomamos en cuenta el numero de palabras que se pueden formar con 5 leras que son 30240. Despues contaremos el número de palabras de 5 letras y que terminenn en vocal, tenemos 5 vocales dentro de la palabra \"MURCIELAGO\", las cuales son: A, E, I, O, U."
   ]
  },
  {
   "cell_type": "markdown",
   "id": "5fd7543e-012e-443e-9a10-8795713c9d51",
   "metadata": {},
   "source": [
    "El número de maneras de escoger una vocal para el último lugar es 5."
   ]
  },
  {
   "cell_type": "markdown",
   "id": "b489fa22-5a46-4231-9482-848a671bf70a",
   "metadata": {},
   "source": [
    "Para sacar el numero de letras se agarra una vocal para terminar, eso quiere decir que permutaremos las 4 letras de las 9 restantes, ya que hemos tomado una para el final.\n",
    "$$\n",
    "       _{9}C_{4}  = \\dfrac{9!}{(9 - 4)!} = \\dfrac{9!}{5!}\\\\\n",
    "$$"
   ]
  },
  {
   "cell_type": "markdown",
   "id": "331755d5-4c90-4af6-8392-783c84060580",
   "metadata": {},
   "source": [
    "Sabemos que el factrial de 5 es 120, pero falta el factorial de 9:\n",
    "\n",
    "$$\n",
    "    9! = 9 \\cdot 8 \\cdot 7 \\cdot 6 \\cdot 5 \\cdot 4 \\cdot 3 \\cdot 2 \\cdot 1 = 362880\n",
    "$$"
   ]
  },
  {
   "cell_type": "markdown",
   "id": "2c560e25-0fef-46aa-9988-8b205df2f479",
   "metadata": {},
   "source": [
    "entonces:\n",
    "$$\n",
    "    _{9}C_{4}  = \\dfrac{62880}{120} = 3024\\\\\n",
    "$$"
   ]
  },
  {
   "cell_type": "markdown",
   "id": "f2dea84b-f8f2-4c76-a754-2479363a4849",
   "metadata": {},
   "source": [
    "Ahora multiplicamos el resultado con las 5 maneras de elegir una vocal para el ultimo lugar:\n",
    "\n",
    "$$\n",
    "    5 \\times 3024 = 15120\n",
    "$$"
   ]
  },
  {
   "cell_type": "markdown",
   "id": "ae3591b9-dbc3-4f72-8515-e0784b861790",
   "metadata": {},
   "source": [
    "Esto quiere decir que existen **15120** de palabras que pueden tener una terminacion en vocal"
   ]
  },
  {
   "cell_type": "markdown",
   "id": "295fa7e6-751c-439d-b5eb-f07b7e203c19",
   "metadata": {},
   "source": [
    "La probabilidad de que una palabra de cinco letras termine en una vocal es el número de palabras que terminan en una vocal dividido por el número total de palabras de cinco letras, o sea:\n",
    "$$\n",
    "    Probabilidad = \\dfrac {15120}{30240} = \\dfrac {1}{2} = 0.5\n",
    "$$"
   ]
  },
  {
   "cell_type": "markdown",
   "id": "1bf602c5-af0e-4e94-bde1-8a6876cc6839",
   "metadata": {},
   "source": [
    "Entonces la probabilidad de que una palabra de 5 letras termine en una vocal de la palabra \"MURCIELAGO\" es del 50%."
   ]
  },
  {
   "cell_type": "code",
   "execution_count": 5,
   "id": "5e87b70a-88a0-4ba1-a75d-4c14652013b0",
   "metadata": {},
   "outputs": [
    {
     "name": "stdout",
     "output_type": "stream",
     "text": [
      "c) 0.004166666666666667\n"
     ]
    }
   ],
   "source": [
    "## Codigo que recuelve el inciso b)\n",
    "numeroLetras = len('MURCIÉLAGO')\n",
    "vocales = 5\n",
    "\n",
    "numeroPalabras5LetrasVocal = perm(9, 4) * 5\n",
    "probabilidadTerminaEnVocal = numeroPalabras5LetrasVocal / numeroPalabras\n",
    "print(\"c)\", probabilidadTerminaEnVocal)"
   ]
  },
  {
   "cell_type": "markdown",
   "id": "eea32701-67f0-4159-856d-0db9f8fb7255",
   "metadata": {},
   "source": [
    "<div id=ex_11></div>  \n",
    "\n",
    "---  \n",
    "<span style=\"color: #2168ff; font-size: 23px; font-weight: 600;\">Ejercicio 11</span>  \n",
    "*Parque vehicular.* La Ciudad de México tiene placas de automóviles con tres números seguidos por tres letras, es decir, son placas del tipo 999-AAA. Sin embargo, no pueden empezar con 0 (cero) ni se utilizan las letras I, O, Q y Ñ."
   ]
  },
  {
   "cell_type": "markdown",
   "id": "c7e3f207-217e-4186-96d2-667dcb6643a5",
   "metadata": {},
   "source": [
    "### a) ¿Cuántas placas diferentes son posibles\n",
    "Multiplicaremos los posibles numeros que se pueden ingresar en la primera sección de la placa (excluyendo el 0 en el primer número), es decir:\n",
    "$$\n",
    "\\begin{align}\n",
    "   9 \\cdot 10 \\cdot 10 = 900.\n",
    "\\end{align}\n",
    "$$\n",
    "seguidamente, aplicaremos la misma logica para las letras, (eliminando las letras no permitidas), entonces contamos con 23 posibles casos para cada espacio: \n",
    "$$\n",
    "\\begin{align}\n",
    "   23 \\cdot 23 \\cdot 23 = 12167.\n",
    "\\end{align}\n",
    "$$\n",
    "Los resultados se multiplican para obtener el total de placas.\n",
    "$$\n",
    "\\begin{align}\n",
    "   900 \\cdot 12167 = 10950300.\n",
    "\\end{align}\n",
    "$$\n",
    "Por lo tanto, hay ***10,950,300*** posibles placas diferentes."
   ]
  },
  {
   "cell_type": "code",
   "execution_count": 1,
   "id": "eea380b8-0f28-4657-ab39-c25ea20536d3",
   "metadata": {},
   "outputs": [
    {
     "name": "stdout",
     "output_type": "stream",
     "text": [
      "La cantidad de placas diferentes es: 10950300\n"
     ]
    }
   ],
   "source": [
    "num_posib = 9 * 10 * 10\n",
    "letr_posib = 23 * 23 * 23\n",
    "placas = num_posib * letr_posib\n",
    "print(f'La cantidad de placas diferentes es: {placas}')"
   ]
  },
  {
   "cell_type": "markdown",
   "id": "29a9bc73-f563-4e4c-88c4-cca583b3ba9a",
   "metadata": {},
   "source": [
    "### b) ¿Cuántas placas diferentes terminan en vocal?\n",
    "Se multiplican las 23 letras de la primera seccion y las 23 de la segunda, por las vocales que se pueden usar, las cuales son 3.\n",
    "$$\n",
    "\\begin{align}\n",
    "   23 \\cdot 23 \\cdot 3 = 1587.\n",
    "\\end{align}\n",
    "$$\n",
    "A continuación se multiplica el resultado de las letras con el resultado de las letras posibles ***900***\n",
    "$$\n",
    "\\begin{align}\n",
    "   1587 \\cdot 900 = 1428300.\n",
    "\\end{align}\n",
    "$$\n",
    "Por lo tanto, la cantidad de placas que terminan en vocal son: ***1,428,300***"
   ]
  },
  {
   "cell_type": "code",
   "execution_count": 2,
   "id": "a14457e8-6c2c-4983-900d-e40791979e1d",
   "metadata": {},
   "outputs": [
    {
     "name": "stdout",
     "output_type": "stream",
     "text": [
      "La cantidad de placas que terminan en vocal es: 1428300\n"
     ]
    }
   ],
   "source": [
    "ltr_vocl = 23 * 23 * 3\n",
    "placas_vocl = ltr_vocl * 900\n",
    "print(f'La cantidad de placas que terminan en vocal es: {placas_vocl}')"
   ]
  },
  {
   "cell_type": "markdown",
   "id": "9ebda4f8-58a8-4ce2-ab37-23152ba6d274",
   "metadata": {},
   "source": [
    "### c) ¿Cuál es la probabilidad de que una placa, elegida al azar, sea impar\n",
    "Primeramente, se debe calcular la cantidad impar posible de numeros, para ello, multiplicaremos las los posibles numeros del primer apartado (9), por los del segundo apartado (10), por el trecer apartado que llevara los posibles numeros impares (5)\n",
    "$$\n",
    "\\begin{align}\n",
    "   9 \\cdot 10 \\cdot 5 = 450.\n",
    "\\end{align}\n",
    "$$\n",
    "el resutado se divide entre la cantidad de numeros posibles, quedando de la siguiente forma:\n",
    "$$\n",
    "\\begin{align}\n",
    "   450 \\div 900 = 0.5.\n",
    "\\end{align}\n",
    "$$\n",
    "Entonces, la probabilidad de que una placa elegida al azar sea impar es de: ***0.5 o 50%***"
   ]
  },
  {
   "cell_type": "code",
   "execution_count": 3,
   "id": "1c63ad60-86bb-4321-913c-82e46e5851b0",
   "metadata": {},
   "outputs": [
    {
     "name": "stdout",
     "output_type": "stream",
     "text": [
      "La propbabilidad que una placa al azar sea impar es: 0.5\n"
     ]
    }
   ],
   "source": [
    "num_azar = 9 * 10 * 5\n",
    "placas_azar = num_azar / 900\n",
    "print(f'La propbabilidad que una placa al azar sea impar es: {placas_azar}')"
   ]
  },
  {
   "cell_type": "markdown",
   "id": "de126e8b-a7e3-4667-86d4-16e2fb7ab0ca",
   "metadata": {},
   "source": [
    "<div id=ex_13></div>  \n",
    "\n",
    "---  \n",
    "<span style=\"color: #2168ff; font-size: 23px; font-weight: 600;\">Ejercicio 13</span>  \n",
    "*Cultura*. Una persona tiene un libro de cada uno de los autores siguientes: Mario Vargas Llosa, Alberto Ruy Sánchez, Gabriel García Márquez, Günther Grass, Patrick Süskind, Heinrich Böll, Arturo Pérez-Reverte y Camilo José Cela.   \n",
    "Como aún no los ha leído, quiere ponerlos en una repisa cerca de su cama. De acuerdo con esto, determina:  \n",
    "\n",
    "a) **¿De cuántas formas puede acomodar los libros sobre la repisa?**\n",
    "\n",
    "Para determinar el número de formas en que puede acomodar los libros, utilizamos la permutación de 8 libros distintos. La fórmula de permutaciones es:\n",
    "\n",
    "$$\n",
    "n! = 8!\n",
    "$$\n",
    "\n",
    "Donde \\( n \\) es el número total de libros.\n",
    "\n",
    "$$\n",
    "8! = 40320\n",
    "$$\n",
    "\n",
    "Por lo tanto, hay 40,320 maneras de acomodar los libros sobre la repisa.\n",
    "\n",
    "b) **¿De cuántas maneras puede ordenarlos si quiere que los libros de autores latinoamericanos estén juntos?**\n",
    "\n",
    "Los autores latinoamericanos son Mario Vargas Llosa, Alberto Ruy Sánchez y Gabriel García Márquez. Consideramos el grupo de libros de autores latinoamericanos como una unidad. Entonces, tenemos 6 unidades para ordenar (el grupo de autores latinoamericanos y los otros 5 libros).\n",
    "\n",
    "El número de formas en que se pueden acomodar estas 6 unidades es:\n",
    "\n",
    "$$\n",
    "6!\n",
    "$$\n",
    "\n",
    "Dentro del grupo de autores latinoamericanos, los libros pueden ordenarse de:\n",
    "\n",
    "$$\n",
    "3!\n",
    "$$\n",
    "\n",
    "Entonces, el número total de maneras de ordenarlos es:\n",
    "\n",
    "$$\n",
    "6! \\times 3! = 720 \\times 6 = 4320\n",
    "$$\n",
    "\n",
    "Por lo tanto, hay 4,320 maneras de ordenar los libros si los autores latinoamericanos están juntos.\n",
    "\n",
    "c) **¿De cuántas formas puede acomodarlos, si los autores latinoamericanos deben estar juntos, así como los autores alemanes y los españoles también?**\n",
    "\n",
    "Los autores alemanes son Günther Grass, Heinrich Böll y Patrick Süskind. Los autores españoles son Arturo Pérez-Reverte y Camilo José Cela. Consideramos cada grupo de autores como una unidad. Entonces, tenemos 3 unidades para ordenar (los grupos de autores latinoamericanos, alemanes y españoles).\n",
    "\n",
    "El número de formas en que se pueden acomodar estas 3 unidades es:\n",
    "\n",
    "$$\n",
    "3!\n",
    "$$\n",
    "\n",
    "Dentro del grupo de autores latinoamericanos, los libros pueden ordenarse de:\n",
    "\n",
    "$$\n",
    "3!\n",
    "$$\n",
    "\n",
    "Dentro del grupo de autores alemanes, los libros pueden ordenarse de:\n",
    "\n",
    "$$\n",
    "3!\n",
    "$$\n",
    "\n",
    "Dentro del grupo de autores españoles, los libros pueden ordenarse de:\n",
    "\n",
    "$$\n",
    "2!\n",
    "$$\n",
    "\n",
    "Entonces, el número total de maneras de ordenarlos es:\n",
    "\n",
    "$$\n",
    "3! \\times 3! \\times 3! \\times 2! = 6 \\times 6 \\times 6 \\times 2 = 432\n",
    "$$\n",
    "\n",
    "Por lo tanto, hay 432 maneras de ordenar los libros si los autores latinoamericanos, alemanes y españoles deben estar juntos.\n",
    "\n",
    "d) **Determina las probabilidades correspondientes a los incisos (b) y (c).**\n",
    "\n",
    "La probabilidad de que los libros de autores latinoamericanos estén juntos es:  \n",
    "El caclulo de la probabilidad  de un evento especifico se calcula mediante el uso de esta formula: \n",
    "$$ P(A) = \\frac{\\text{Número de resultados favorables}}{\\text{Número total de resultados posibles}} $$\n",
    "$$\n",
    "P(\\text{Latinoamericanos juntos}) = \\frac{\\text{Número de maneras con los latinoamericanos juntos}}{\\text{Número total de maneras}} =\n",
    " \\frac{4320}{40320} =  \\approx 0.107143 = 10.71/\\%\n",
    "$$\n",
    "\n",
    "La probabilidad de que los autores latinoamericanos, alemanes y españoles estén juntos es:\n",
    "\n",
    "$$\n",
    "P(\\text{Latinoamericanos, alemanes y españoles juntos}) = \\frac{\\text{Número de maneras con latinoamericanos, alemanes y españoles juntos}}{\\text{Número total de maneras}} = \\frac{432}{40320} = \\frac{1}{93.333} \\approx 0.0107 = 1.07\\%\n",
    "$$\n"
   ]
  },
  {
   "cell_type": "markdown",
   "id": "ba6c051e-6bea-48bb-844a-76f7b16def7d",
   "metadata": {},
   "source": [
    "<div id=ex_14></div>  \n",
    "\n",
    "---  \n",
    "<span style=\"color: #2168ff; font-size: 23px; font-weight: 600;\">Ejercicio 14</span>  \n",
    "*Finanzas* Se va a formar un portafolio de inversión de cuatro instrumentos financieros a partir de cinco de renta fija y seis de renta variable. ¿De cuántas maneras podría formarse el portafolio si:  \n",
    "**a)** No hay restricciones?  \n",
    "**b)** Debe haber dos instrumentos de renta fija y dos de renta variable?  \n",
    "**c)** No debe haber ningún instrumento de renta fija?  \n",
    "**d)** Debe haber tres instrumentos de renta fija?  \n",
    "**e)** Calcula las probabilidades para los incisos anteriores.  "
   ]
  },
  {
   "cell_type": "code",
   "execution_count": 9,
   "id": "1265c43a-0078-4c98-89d1-17dfcb07422d",
   "metadata": {},
   "outputs": [
    {
     "name": "stdout",
     "output_type": "stream",
     "text": [
      "a) Hay 330 maneras de formar el portafolio sin restricciones\n",
      "b) Hay 150 maneras de formar el portafolio con dos instrumentos de renta fija y dos de renta variable \n",
      "c) Hay 15 maneras de formar el portafolio sin ningún instrumento de renta fija\n",
      "d) Hay 60  maneras de formar el portafolio con tres instrumentos de renta fija y uno de renta variable\n",
      "3) Probabilidades\n",
      "   Probabilidad inciso (a): 1.0 = 100%\n",
      "   Probabilidad inciso (b): 0.45454545454545453 = 45.45%\n",
      "   Probabilidad inciso (c): 0.045454545454545456 = 4.55%\n",
      "   Probabilidad inciso (d): 0.18181818181818182 = 18.18%\n"
     ]
    }
   ],
   "source": [
    "# IMPORTACIONES\n",
    "from math import comb, perm, factorial\n",
    "\n",
    "#### a) ####\n",
    "formasPortaforlioTotales = comb(11, 4)\n",
    "print(\"a) Hay\", formasPortaforlioTotales, \"maneras de formar el portafolio sin restricciones\")\n",
    "\n",
    "#### b) ####\n",
    "formasPortaforlio2RF2RV = comb(5, 2) * comb(6, 2)\n",
    "print(\"b) Hay\", formasPortaforlio2RF2RV, \"maneras de formar el portafolio con dos instrumentos de renta fija y dos de renta variable \")\n",
    "\n",
    "#### c) ####\n",
    "formasPortaforlioNoRF = comb(5, 0) * comb(6, 4)\n",
    "print(\"c) Hay\", formasPortaforlioNoRF, \"maneras de formar el portafolio sin ningún instrumento de renta fija\")\n",
    "\n",
    "#### d) ####\n",
    "formasPortaforlio3RF =  comb(5, 3) * comb(6, 1)\n",
    "print(\"d) Hay\", formasPortaforlio3RF, \" maneras de formar el portafolio con tres instrumentos de renta fija y uno de renta variable\")\n",
    "\n",
    "#### e) ####\n",
    "probabilidadEA = formasPortaforlioTotales / formasPortaforlioTotales\n",
    "probabilidadEB = formasPortaforlio2RF2RV / formasPortaforlioTotales\n",
    "probabilidadEC = formasPortaforlioNoRF / formasPortaforlioTotales\n",
    "probabilidadED = formasPortaforlio3RF / formasPortaforlioTotales\n",
    "print(\"3) Probabilidades\")\n",
    "print(\"   Probabilidad inciso (a):\", probabilidadEA, \"= 100%\")\n",
    "print(\"   Probabilidad inciso (b):\", probabilidadEB, \"= 45.45%\")\n",
    "print(\"   Probabilidad inciso (c):\", probabilidadEC, \"= 4.55%\")\n",
    "print(\"   Probabilidad inciso (d):\", probabilidadED, \"= 18.18%\")"
   ]
  },
  {
   "cell_type": "markdown",
   "id": "c1460b0d-9175-4e68-b52d-f0eb6d2c57ca",
   "metadata": {},
   "source": [
    "##### Se va a formar un portafolio de inversión de cuatro instrumentos financieros a partir de cinco de renta fija y seis de renta variable. ¿De cuántas maneras podría formarse el portafolio si:  ##### \n",
    "\n",
    "a) **¿De cuántas maneras podría formarse el portafolio si no hay restricciones?**\n",
    "\n",
    "Para determinar el número de maneras en que puede formarse el portafolio sin restricciones, seleccionamos 4 instrumentos financieros de un total de 11 (5 de renta fija y 6 de renta variable). Utilizamos combinaciones:\n",
    "\n",
    "$$\n",
    "_{11}C_{4} = \\frac{11!}{4!(11-4)!} = \\frac{11 \\cdot 10 \\cdot 9 \\cdot 8}{4 \\cdot 3 \\cdot 2 \\cdot 1} = 330\n",
    "$$\n",
    "\n",
    "Por lo tanto, hay **330 maneras** de formar el portafolio sin restricciones.\n",
    "\n",
    "b) **¿De cuántas maneras podría formarse el portafolio si debe haber dos instrumentos de renta fija y dos de renta variable?**\n",
    "\n",
    "Para esta parte, seleccionamos 2 instrumentos de renta fija de 5 disponibles y 2 instrumentos de renta variable de 6 disponibles:\n",
    "\n",
    "$$\n",
    "_{5}C_{2} \\times _{6}C_{2} = \\frac{5!}{2!(5-2)!} \\times \\frac{6!}{2!(6-2)!} = 10 \\times 15 = 150\n",
    "$$\n",
    "\n",
    "Hay **150 maneras** de formar el portafolio con dos instrumentos de renta fija y dos de renta variable.\n",
    "\n",
    "c) **¿De cuántas maneras podría formarse el portafolio si no debe haber ningún instrumento de renta fija?**\n",
    "\n",
    "Seleccionamos los 4 instrumentos del total de 6 disponibles de renta variable:\n",
    "\n",
    "$$\n",
    "_{6}C_{4}= \\frac{6!}{4!(6-4)!} = \\frac{6 \\cdot 5}{2 \\cdot 1} = 15\n",
    "$$\n",
    "\n",
    "Hay **15 maneras** de formar el portafolio sin ningún instrumento de renta fija.\n",
    "\n",
    "d) **¿De cuántas maneras podría formarse el portafolio si debe haber tres instrumentos de renta fija?**\n",
    "\n",
    "Seleccionamos 3 instrumentos de renta fija de los 5 disponibles y 1 instrumento de renta variable de los 6 disponibles:\n",
    "\n",
    "$$\n",
    " _{5}C_{3} \\times _{6}C_{1} = \\frac{5!}{3!(5-3)!} \\times \\frac{6!}{1!(6-1)!} = 10 \\times 6 = 60\n",
    "$$\n",
    "\n",
    "Hay **60 maneras** de formar el portafolio con tres instrumentos de renta fija y uno de renta variable.\n",
    "\n",
    "e) **Calcula las probabilidades para los incisos anteriores.**\n",
    "\n",
    "Para calcular las probabilidades, primero determinamos el número total de maneras de formar el portafolio (en el inciso a), ya calculado como 330. Luego, dividimos el número de maneras de cada caso entre este total:  \n",
    "El caclulo de la probabilidad  de un evento especifico se calcula mediante el uso de esta formula: \n",
    "$$ P(A) = \\frac{\\text{Número de resultados favorables}}{\\text{Número total de resultados posibles}} $$\n",
    "\n",
    "\n",
    "- Para el inciso a) (dos de renta fija y dos de renta variable): $$  \\frac{330}{330} = 1 = 100\\% $$\n",
    "- Para el inciso b) (dos de renta fija y dos de renta variable): $$  \\frac{150}{330} = 0.45454545454545453 =45.45\\% $$\n",
    "- Para el inciso c) (ningún instrumento de renta fija): $$  \\frac{15}{330} = 0.045454545454545456 = 4.55\\% $$\n",
    "- Para el inciso d) (tres de renta fija y uno de renta variable): $$  \\frac{60}{330} = 0.18181818181818182 = 18.18\\% $$\n",
    "\n"
   ]
  },
  {
   "cell_type": "markdown",
   "id": "84b40a76-f8c0-47a2-8500-dff909f1237c",
   "metadata": {},
   "source": [
    "<div id=ex_15></div>  \n",
    "\n",
    "---  \n",
    "<span style=\"color: #2168ff; font-size: 23px; font-weight: 600;\">Ejercicio 15</span>  \n",
    "*Futbol.* Tres parejas (tres hombres y tres mujeres) compran boletos para ir a un partido de los Pumas. Cuando llegan al estadio de Ciudad Universitaria les surge la duda de cómo sentarse en la fila. ¿De cuántas maneras pueden hacerlo si:  "
   ]
  },
  {
   "cell_type": "markdown",
   "id": "d244635a-0113-4628-8d20-f0bf275e3cd0",
   "metadata": {},
   "source": [
    "**a) No hay restricciones?**  \n",
    "Dado que hay $6$ personas en total (3 hombres y 3 mujeres) y no hay restricciones sobre cómo deberían sentarse, podemos calcular el número de permutaciones de la siguiente forma:  \n",
    "El número de permutaciones de $n$ objetos distintos es $n!$.\n",
    "$$\n",
    "    n! = n \\cdot (n - 1) \\cdot (n - 2) \\cdot \\text{...} \\cdot 3 \\cdot 2 \\cdot 1\n",
    "$$\n",
    "De esta observación se puede concluir lo siguiente:\n",
    "$$\n",
    "\\begin{align}\n",
    "    6! &= 720\n",
    "\\end{align}\n",
    "$$\n",
    "Por lo tanto, pueden sentarse en la fila de **720** formas diferentes."
   ]
  },
  {
   "cell_type": "code",
   "execution_count": 2,
   "id": "87a04b04-10e9-46de-aa07-2542f6088870",
   "metadata": {},
   "outputs": [
    {
     "name": "stdout",
     "output_type": "stream",
     "text": [
      "Hay 720 formas distintas en las que pueden sentarse las 6 personas.\n"
     ]
    }
   ],
   "source": [
    "# Implementación de la solución del inciso a) del ejercicio 15\n",
    "n = 6\n",
    "formasTotales = factorial(n)\n",
    "print(f'Hay {formasTotales} formas distintas en las que pueden sentarse las 6 personas.')"
   ]
  },
  {
   "cell_type": "markdown",
   "id": "8ba28d25-86f8-4a13-836a-f6c3ace058fa",
   "metadata": {},
   "source": [
    "**b) Los hombres deben sentarse juntos?**  \n",
    "Para resolver este caso, consideramos a los 3 hombres como un grupo único, ya que deben sentarse juntos. Esto nos da un total de 4 \"elementos\" para organizar: tres mujeres y un grupo de hombres.\n",
    "<table style=\"border-collapse: separate; border-spacing: 0;\">\n",
    "    <tr>\n",
    "        <td style=\"border: 2px solid black; border-radius: 10px; padding: 3px 10px;\">Mujer 1</td>\n",
    "        <td style=\"border: 2px solid black; border-radius: 10px; padding: 3px 10px;\">Mujer 2</td>\n",
    "        <td style=\"border: 2px solid black; border-radius: 10px; padding: 3px 10px;\">Mujer 3</td>\n",
    "        <td style=\"border: 2px solid black; border-radius: 10px; padding: 3px 5px;\">\n",
    "            <table style=\"border-collapse: separate; border-spacing: 0; margin: 0px;\">\n",
    "                <tr>\n",
    "                    <td style=\"border: 2px solid gray; border-radius: 30px; padding: 4px 6px;\">Hombre 1</td>\n",
    "                    <td style=\"border: 2px solid gray; border-radius: 30px; padding: 4px 6px;\">Hombre 2</td>\n",
    "                    <td style=\"border: 2px solid gray; border-radius: 30px; padding: 4px 6px;\">Hombre 3</td>\n",
    "                </tr>\n",
    "            </table>\n",
    "        </td>\n",
    "    </tr>\n",
    "</table>\n",
    "  \n",
    "Primero, calulamos el número de formas de organizar estos 4 elementos, lo cual es $4!$.   \n",
    "\n",
    "Pero los 3 hombres pueden estar en distinto orden y aun así seguir juntos, lo que equivale a $3!$.   \n",
    "Para determinar cuántas formas hay para que los hombres se sienten juntos, multiplicamos las formas de organizar los 4 elementos por las formas de organizar los hombres dentro de su grupo:  \n",
    "$$\n",
    "\\begin{align}\n",
    "    4! \\cdot 3! &= 24 \\cdot 6 = 144\n",
    "\\end{align}\n",
    "$$\n",
    "Por lo tanto, pueden sentarse en la fila de **144** formas diferentes manteniendo a los hombres juntos."
   ]
  },
  {
   "cell_type": "code",
   "execution_count": 3,
   "id": "25da8c38-5ed1-4efa-a6b1-0fa3a61a06ad",
   "metadata": {},
   "outputs": [
    {
     "name": "stdout",
     "output_type": "stream",
     "text": [
      "Hay 144 formas distintas en las que pueden sentarse estando los hombres juntos.\n"
     ]
    }
   ],
   "source": [
    "# Implementación de la solución del inciso b) del ejercicio 15\n",
    "n, m = 4, 3\n",
    "formasHomJuntos = factorial(n) * factorial(m)\n",
    "print(f'Hay {formasHomJuntos} formas distintas en las que pueden sentarse estando los hombres juntos.')"
   ]
  },
  {
   "cell_type": "markdown",
   "id": "11114fbc-46e6-4a41-97c5-ad04c5dfa658",
   "metadata": {},
   "source": [
    "**c) Deben sentarse por parejas?**   \n",
    "En este caso, las personas deben sentarse al lado de otra en específico, formando tres parejas. Podemos calcular el número de formas de hacer esto de la siguiente manera:  \n",
    "Primero, consideramos las parejas como bloques individuales.  \n",
    "<table style=\"border-collapse: separate; border-spacing: 0;\">\n",
    "    <tr>\n",
    "        <td style=\"border: 2px solid black; border-radius: 10px; padding: 3px 5px;\">\n",
    "            <table style=\"border-collapse: separate; border-spacing: 0; margin: 0px;\">\n",
    "                <tr>\n",
    "                    <td style=\"border: 2px solid gray; border-radius: 30px; padding: 4px 6px;\">Hombre 1</td>\n",
    "                    <td style=\"border: 2px solid gray; border-radius: 30px; padding: 4px 12px;\">Mujer 1</td>\n",
    "                </tr>\n",
    "            </table>\n",
    "        </td>\n",
    "        <td style=\"border: 2px solid black; border-radius: 10px; padding: 3px 5px;\">\n",
    "            <table style=\"border-collapse: separate; border-spacing: 0; margin: 0px;\">\n",
    "                <tr>\n",
    "                    <td style=\"border: 2px solid gray; border-radius: 30px; padding: 4px 6px;\">Hombre 2</td>\n",
    "                    <td style=\"border: 2px solid gray; border-radius: 30px; padding: 4px 12px;\">Mujer 2</td>\n",
    "                </tr>\n",
    "            </table>\n",
    "        </td>\n",
    "        <td style=\"border: 2px solid black; border-radius: 10px; padding: 3px 5px;\">\n",
    "            <table style=\"border-collapse: separate; border-spacing: 0; margin: 0px;\">\n",
    "                <tr>\n",
    "                    <td style=\"border: 2px solid gray; border-radius: 30px; padding: 4px 6px;\">Hombre 3</td>\n",
    "                    <td style=\"border: 2px solid gray; border-radius: 30px; padding: 4px 12px;\">Mujer 3</td>\n",
    "                </tr>\n",
    "            </table>\n",
    "        </td>\n",
    "    </tr>\n",
    "</table>  \n",
    "Hay 3 parejas en total, por lo tanto, tenemos $3!$ formas de organizar estas parejas y tanto el hombre como la mujer pueden intercambiar posición, lo que nos da $2!$ formas para cada pareja.  \n",
    "\n",
    "Calculamos el número total de formas combinando estas dos consideraciones:\n",
    "$$\n",
    "\\begin{align}\n",
    "    3! \\cdot (2! \\cdot 2! \\cdot 2!) &= 6 \\cdot 8 = 48\n",
    "\\end{align}\n",
    "$$\n",
    "Las personas pueden sentarse en la fila de **48** formas diferentes formando parejas."
   ]
  },
  {
   "cell_type": "code",
   "execution_count": 4,
   "id": "9a79fe7f-f163-4f9e-a6e2-650c19b478e3",
   "metadata": {},
   "outputs": [
    {
     "name": "stdout",
     "output_type": "stream",
     "text": [
      "Hay 48 formas distintas en las que pueden sentarse estando con su respectiva pareja.\n"
     ]
    }
   ],
   "source": [
    "# Implementación de la solución del inciso c) del ejercicio 15\n",
    "formasParejas = factorial(3) * (factorial(2) * factorial(2) * factorial(2))\n",
    "print(f'Hay {formasParejas} formas distintas en las que pueden sentarse estando con su respectiva pareja.')"
   ]
  },
  {
   "cell_type": "markdown",
   "id": "48c669ba-d299-4049-b646-64d740451633",
   "metadata": {},
   "source": [
    "**d) ¿Cuál es la probabilidad de cada uno de los eventos descritos en los incisos anteriores?**  \n",
    "Para calcular la probabilidad de cada evento se debe dividir el número de formas favorables entre el total de formas posibles:\n",
    "$$\n",
    "\\begin{align}\n",
    "      \\text{Probabilidad de un evento} &= \\dfrac{\\text{Casos favorables}}{\\text{Casos totales}}\n",
    "\\end{align}\n",
    "$$\n",
    "El total de formas posibles son todas las permutaciones de las 6 personas y los casos favorables son las permutaciones calculadas en los incisos anteriores.  \n",
    "- Probabilidad del evento descrito en el inciso **a)**:\n",
    "$$\n",
    "\\begin{align}\n",
    "    P(A) &= \\dfrac{720}{720} = 1\n",
    "\\end{align}\n",
    "$$  \n",
    "\n",
    "- Probabilidad del evento descrito en el inciso **b)**:\n",
    "$$\n",
    "\\begin{align}\n",
    "    P(B) &= \\dfrac{144}{720} = 0.2\n",
    "\\end{align}\n",
    "$$\n",
    "\n",
    "- Probabilidad del evento descrito en el inciso **c)**:\n",
    "$$\n",
    "\\begin{align}\n",
    "    P(C) &= \\dfrac{48}{720} = 0.0666667\n",
    "\\end{align}\n",
    "$$\n"
   ]
  },
  {
   "cell_type": "code",
   "execution_count": 5,
   "id": "19373a01-3286-4848-a35a-fd859ed83bc9",
   "metadata": {},
   "outputs": [
    {
     "name": "stdout",
     "output_type": "stream",
     "text": [
      "Probabilidad del evento del inciso (a): 1.0\n",
      "Probabilidad del evento del inciso (b): 0.2\n",
      "Probabilidad del evento del inciso (c): 0.06666666666666667\n"
     ]
    }
   ],
   "source": [
    "# Implementación de la solución del inciso d) del ejercicio 15\n",
    "probabilidadDA = formasTotales / formasTotales\n",
    "probabilidadDB = formasHomJuntos / formasTotales\n",
    "probabilidadDC = formasParejas / formasTotales\n",
    "print(\"Probabilidad del evento del inciso (a):\", probabilidadDA)\n",
    "print(\"Probabilidad del evento del inciso (b):\", probabilidadDB)\n",
    "print(\"Probabilidad del evento del inciso (c):\", probabilidadDC)"
   ]
  },
  {
   "cell_type": "markdown",
   "id": "62fd085b-a98b-40bb-b6c2-b3eb280886ca",
   "metadata": {},
   "source": [
    "<div id=ex_16></div>  \n",
    "\n",
    "---  \n",
    "<span style=\"color: #2168ff; font-size: 23px; font-weight: 600;\">Ejercicio 16</span>  \n",
    "*Trabajo en equipo.* En un grupo de 25 alumnos hay 13 chicas y 12 chicos. Se desean formar equipos de trabajo para realizar una investigación: "
   ]
  },
  {
   "cell_type": "markdown",
   "id": "486325d2-4f80-46db-8b91-31c0bbdd8140",
   "metadata": {},
   "source": [
    "**a) ¿Cuántos equipos de cinco personas pueden formarse?**  \n",
    "Dado que no importa el orden en que se seleccionen los integrantes, se utiliza la fórmula de combinaciones.  \n",
    "El número de formas de elegir $r$ elementos de un conjunto de $n$ objetos distintos, sin importar el orden, es:\n",
    "$$\n",
    "\\begin{align}\n",
    "    _nC_r &= \\begin{pmatrix} n \\\\ r \\end{pmatrix} = \\dfrac{n!}{r! \\cdot (n - r)!}\\\\\n",
    "\\end{align}\n",
    "$$\n",
    "Se calculan el número de combinaciones tomando en cuenta los 25 alumnos para formar los equipos de 5.\n",
    "$$\n",
    "\\begin{align}\n",
    "    _{25}C_5 &= \\dfrac{25!}{5! \\cdot (25 - 5)!}\\\\\\\\\n",
    "    _{25}C_5 &= \\dfrac{25!}{120 \\cdot 20!} = \\dfrac{25 \\cdot 24 \\cdot 23  \\cdot 22  \\cdot21}{120} \\dfrac{20!}{20!} = \\dfrac{6375600}{120}\\\\\\\\\n",
    "    _{25}C_5 &= 53130\\\\\\\\\n",
    "\\end{align}\n",
    "$$\n",
    "Por lo tanto, se pueden formar **53130** equipos de 5 integrantes.  "
   ]
  },
  {
   "cell_type": "code",
   "execution_count": 6,
   "id": "b7e98119-08d5-4ad7-8e61-53cc65edd281",
   "metadata": {},
   "outputs": [
    {
     "name": "stdout",
     "output_type": "stream",
     "text": [
      "Se pueden formar 53130 equipos diferentes de 5 interantes\n"
     ]
    }
   ],
   "source": [
    "# Implementación de la solución del inciso a) del ejercicio 16\n",
    "n, r = 25, 5\n",
    "equiposCinco = comb(n, r)\n",
    "print(f'Se pueden formar {equiposCinco} equipos diferentes de 5 interantes')"
   ]
  },
  {
   "cell_type": "markdown",
   "id": "5e0f1d28-bb26-453b-9def-f405785858b7",
   "metadata": {},
   "source": [
    "**b) ¿Cuántos equipos pueden formarse si debe haber una chica?**  \n",
    "Hay 13 chicas y 12 chicos, por lo que para resolver esto se debe multiplicar el número de combinaciones de 4 chicos por las combinaciones posibles de 1 chica de las 13 que hay en el grupo:  \n",
    "-  **Combinaciones de 4 chicos**  \n",
    "Primero, calculamos el número de formas en las que se pueden seleccionar 4 chicos de los 12 disponibles: \n",
    "$$\n",
    "\\begin{align}\n",
    "    _{12}C_4 &= \\dfrac{12!}{4! \\cdot (12 - 4)!}\\\\\\\\\n",
    "    _{12}C_4 &= \\dfrac{12!}{4! \\cdot 8!} = \\dfrac{12 \\cdot 11 \\cdot 10 \\cdot 9}{24} \\dfrac{8!}{8!} = \\dfrac{11880}{24}\\\\\\\\\n",
    "    _{12}C_4 &= 495\n",
    "\\end{align}\n",
    "$$\n",
    "-  **Combinaciones de 1 chica**  \n",
    "Después, calculamos el número de formas en las que se puede seleccionar 1 chica de las 13 disponibles: \n",
    "$$\n",
    "\\begin{align}\n",
    "    _{13}C_1 &= \\dfrac{13!}{1! \\cdot (13 - 1)!}\\\\\\\\\n",
    "    _{13}C_1 &= \\dfrac{13}{1} \\dfrac{12!}{12!} = \\dfrac{13}{1}\\\\\\\\\n",
    "    _{13}C_1 &= 13\n",
    "\\end{align}\n",
    "$$  \n",
    "\n",
    "Como se deben elegir 4 chicos y una chica en el mismo equipo, se multiplican ambos resultados:\n",
    "$$\n",
    "\\begin{align}\n",
    "    {_{12}C_4} \\cdot {_{13}C_1} &= 495 \\cdot 13 = 6435\n",
    "\\end{align}\n",
    "$$  \n",
    "\n",
    "Por lo tanto, se pueden formar **6435** equipos donde hay exactamente una chica y cuatro chicos."
   ]
  },
  {
   "cell_type": "code",
   "execution_count": 7,
   "id": "f4cb7db3-9532-4bff-a0ba-e94ff462a558",
   "metadata": {},
   "outputs": [
    {
     "name": "stdout",
     "output_type": "stream",
     "text": [
      "Se pueden formar 6435 equipos con una chica y cuatro chicos\n"
     ]
    }
   ],
   "source": [
    "# Implementación de la solución del inciso b) del ejercicio 16\n",
    "equiposCincoUnaChica = comb(12, 4) * comb(13, 1)\n",
    "print(f'Se pueden formar {equiposCincoUnaChica} equipos con una chica y cuatro chicos')"
   ]
  },
  {
   "cell_type": "markdown",
   "id": "4373a5f5-4316-4221-be4c-465f3b52647f",
   "metadata": {},
   "source": [
    "**c) ¿Cuántos equipos pueden formarse si debe haber dos chicas?**  \n",
    "Para este caso, debemos formar combinaciones de 3 chicos y 2 chicas. Aplicamos el mismo razonamiento que en el inciso anterior.\n",
    "-  **Combinaciones de 3 chicos**  \n",
    "Primero, calculamos el número de formas en las que se pueden seleccionar 3 chicos de los 12 disponibles: \n",
    "$$\n",
    "\\begin{align}\n",
    "    _{12}C_3 &= \\dfrac{12!}{3! \\cdot (12 - 3)!}\\\\\\\\\n",
    "    _{12}C_3 &= \\dfrac{12!}{3! \\cdot 9!} = \\dfrac{12 \\cdot 11 \\cdot 10}{6} \\dfrac{9!}{9!} = \\dfrac{1320}{6}\\\\\\\\\n",
    "    _{12}C_3 &= 220\n",
    "\\end{align}\n",
    "$$\n",
    "-  **Combinaciones de 2 chicas**  \n",
    "Después, calculamos el número de formas en las que se pueden seleccionar 2 chicas de las 13 disponibles: \n",
    "$$\n",
    "\\begin{align}\n",
    "    _{13}C_2 &= \\dfrac{13!}{2! \\cdot (13 - 2)!}\\\\\\\\\n",
    "    _{13}C_2 &= \\dfrac{13!}{2! \\cdot 11!} = \\dfrac{13 \\cdot 12}{2} \\dfrac{11!}{11!} = \\dfrac{156}{2}\\\\\\\\\n",
    "    _{13}C_2 &= 78\n",
    "\\end{align}\n",
    "$$  \n",
    "\n",
    "Para obtener el total de equipos donde hay exactamente dos chicas y tres chicos, multiplicamos ambos resultados:\n",
    "$$\n",
    "\\begin{align}\n",
    "    {_{12}C_3} \\cdot {_{13}C_2} &= 220 \\cdot 78 = 17160\n",
    "\\end{align}\n",
    "$$  \n",
    "\n",
    "Por lo tanto, se pueden formar **17160** equipos donde hay exactamente dos chicas y tres chicos."
   ]
  },
  {
   "cell_type": "code",
   "execution_count": 8,
   "id": "19000cdc-271e-4778-b27a-199d9dd811d9",
   "metadata": {},
   "outputs": [
    {
     "name": "stdout",
     "output_type": "stream",
     "text": [
      "Se pueden formar 17160 equipos con dos chicas y tres chicos\n"
     ]
    }
   ],
   "source": [
    "# Implementación de la solución del inciso c) del ejercicio 16\n",
    "equiposCincoDosChicas = comb(12, 3) * comb(13, 2)\n",
    "print(f'Se pueden formar {equiposCincoDosChicas} equipos con dos chicas y tres chicos')"
   ]
  },
  {
   "cell_type": "markdown",
   "id": "7b59192b-2b81-4b51-a28a-4f42847f07cb",
   "metadata": {},
   "source": [
    "**d) Determina las probabilidades correspondientes a los incisos anteriores.**  \n",
    "Para calcular la probabilidad de cada evento se debe dividir el número de equipos formados que son favorables entre el total de equipos que es posible formar:\n",
    "$$\n",
    "\\begin{align}\n",
    "      \\text{Probabilidad de un evento} &= \\dfrac{\\text{Casos favorables}}{\\text{Casos totales}}\n",
    "\\end{align}\n",
    "$$\n",
    "El total de equipos posibles con 5 integrantes son todas las combinaciones de 5 alumnos de los 25 disponibles (53130) y los casos favorables son las combinaciones calculadas en los incisos anteriores.  \n",
    "- Probabilidad del evento descrito en el inciso **a)**:\n",
    "$$\n",
    "\\begin{align}\n",
    "    P(A) &= \\dfrac{53130}{53130} = 1\n",
    "\\end{align}\n",
    "$$  \n",
    "\n",
    "- Probabilidad del evento descrito en el inciso **b)**:\n",
    "$$\n",
    "\\begin{align}\n",
    "    P(B) &= \\dfrac{6435}{53130} = 0.1211180\n",
    "\\end{align}\n",
    "$$\n",
    "\n",
    "- Probabilidad del evento descrito en el inciso **c)**:\n",
    "$$\n",
    "\\begin{align}\n",
    "    P(C) &= \\dfrac{17160}{53130} = 0.3229813\n",
    "\\end{align}\n",
    "$$\n"
   ]
  },
  {
   "cell_type": "code",
   "execution_count": 9,
   "id": "2c4f397d-980d-4a65-a070-dc8796df74e9",
   "metadata": {},
   "outputs": [
    {
     "name": "stdout",
     "output_type": "stream",
     "text": [
      "Probabilidad del evento del inciso (a): 1.0\n",
      "Probabilidad del evento del inciso (b): 0.12111801242236025\n",
      "Probabilidad del evento del inciso (c): 0.32298136645962733\n"
     ]
    }
   ],
   "source": [
    "# Implementación de la solución del inciso d) del ejercicio 16\n",
    "probabilidadEqA = equiposCinco / equiposCinco\n",
    "probabilidadEqB = equiposCincoUnaChica / equiposCinco\n",
    "probabilidadEqC = equiposCincoDosChicas / equiposCinco\n",
    "print(\"Probabilidad del evento del inciso (a):\", probabilidadEqA)\n",
    "print(\"Probabilidad del evento del inciso (b):\", probabilidadEqB)\n",
    "print(\"Probabilidad del evento del inciso (c):\", probabilidadEqC)"
   ]
  },
  {
   "cell_type": "markdown",
   "id": "6fc719dd-9534-44bd-8f94-99b1b0dccea9",
   "metadata": {},
   "source": [
    "<div id=ex_17></div>  \n",
    "\n",
    "---  \n",
    "<span style=\"color: #2168ff; font-size: 23px; font-weight: 600;\">Ejercicio 17</span>  \n",
    "*Control de calidad.* Se tiene una caja con 24 latas y se sabe que dos están contaminadas. Se van a seleccionar tres latas al azar para someterlas a una prueba de control de calidad, es decir, para medir los estándares de calidad de la empresa.  "
   ]
  },
  {
   "cell_type": "markdown",
   "id": "d190cfdc-15db-4f0c-a59c-5419ddf69b17",
   "metadata": {},
   "source": [
    "**a) ¿Cuántas combinaciones de tres latas pueden hacerse?**  \n",
    "Para este problema, no importa el orden en que se seleccionen las latas, por lo que utilizamos la fórmula de combinaciones.  \n",
    "El número de formas de elegir $r$ elementos de un conjunto de $n$ objetos distintos, sin importar \n",
    "el orden, es:\n",
    "$$\n",
    "\\begin{align}\n",
    "    _nC_r &= \\begin{pmatrix} n \\\\ r \\end{pmatrix} = \\dfrac{n!}{r! \\cdot (n - r)!}\\\\\n",
    "\\end{align}\n",
    "$$\n",
    "Se calculan las combinaciones de 3 latas seleccionadas de un total de 24 latas:  \n",
    "$$\n",
    "\\begin{align}\n",
    "    _{24}C_3 &= \\dfrac{24!}{3! \\cdot (24 - 3)!}\\\\\\\\\n",
    "    _{24}C_3 &= \\dfrac{24!}{6 \\cdot 21!} = \\dfrac{24 \\cdot 23  \\cdot 22}{6} \\dfrac{21!}{21!} = \\dfrac{12144}{6}\\\\\\\\\n",
    "    _{24}C_3 &= 2024\\\\\\\\\n",
    "\\end{align}\n",
    "$$\n",
    "Por lo tanto, se pueden formar **2024** combinaciones de tres latas."
   ]
  },
  {
   "cell_type": "code",
   "execution_count": 10,
   "id": "8ebada50-f1d6-4ac8-806e-daf01a269ac2",
   "metadata": {},
   "outputs": [
    {
     "name": "stdout",
     "output_type": "stream",
     "text": [
      "Se pueden formar 2024 combinaciones de tres latas\n"
     ]
    }
   ],
   "source": [
    "# Implementación de la solución del inciso a) del ejercicio 17\n",
    "n, r = 24, 3\n",
    "combinacionesTotales = comb(n, r)\n",
    "print(f\"Se pueden formar {combinacionesTotales} combinaciones de tres latas\")"
   ]
  },
  {
   "cell_type": "markdown",
   "id": "22ff66b6-48df-4396-9bd1-ecb53fcf5bb6",
   "metadata": {},
   "source": [
    "**b) ¿Cuál es la probabilidad de que se seleccione una lata contaminada para la prueba?**  \n",
    "Para calcular la probabilidad de seleccionar exactamente una lata contaminada, necesitamos conocer el número de casos totales (calculado en el inciso **a)**) y el número de casos favorables.  \n",
    "La probabilidad de un evento se calcula como:  \n",
    "$$\n",
    "\\begin{align}\n",
    "      \\text{Probabilidad de un evento} &= \\dfrac{\\text{Casos favorables}}{\\text{Casos totales}}\n",
    "\\end{align}\n",
    "$$\n",
    "Hay 22 latas en buen estado y 2 que están contaminadas. Para obtener el número de casos favorables, se debe multiplicar el número de combinaciones de 2 latas en buen estado por las combinaciones posibles de 1 lata contaminada:  \n",
    "-  **Combinaciones de 2 latas en buen estado**  \n",
    "Primero, se calcula el número de formas en las que se pueden seleccionar 2 latas de las 22 en buen estado:  \n",
    "$$\n",
    "\\begin{align}\n",
    "    _{22}C_2 &= \\dfrac{22!}{2! \\cdot (22 - 2)!}\\\\\\\\\n",
    "    _{22}C_2 &= \\dfrac{22!}{2! \\cdot 20!} = \\dfrac{22 \\cdot 21}{2} \\dfrac{20!}{20!} = \\dfrac{462}{2}\\\\\\\\\n",
    "    _{22}C_2 &= 231\n",
    "\\end{align}\n",
    "$$\n",
    "-  **Combinaciones de 1 lata contaminada**  \n",
    "Después, se calcula el número de formas en las que se puede seleccionar 1 lata de las 2 contaminadas: \n",
    "$$\n",
    "\\begin{align}\n",
    "    _{2}C_1 &= \\dfrac{2!}{1! \\cdot (2 - 1)!}\\\\\\\\\n",
    "    _{2}C_1 &= \\dfrac{2}{1} \\\\\\\\\n",
    "    _{2}C_1 &= 2\n",
    "\\end{align}\n",
    "$$  \n",
    "\n",
    "Como se deben elegir 2 latas en buen estado y 1 contaminada para la prueba, se multiplican ambos resultados para obtener el total de casos favorables:  \n",
    "$$\n",
    "\\begin{align}\n",
    "    _{22}C_2 \\cdot _2C_1 &= 231 \\cdot 2 = 462\n",
    "\\end{align}\n",
    "$$  \n",
    "\n",
    "El total de casos posibles son todas las combinaciones de 3 latas de las 24 disponibles (2024) y el número de casos favorables es 462.  \n",
    "$$\n",
    "\\begin{align}\n",
    "    P(B) &= \\dfrac{462}{2024} = 0.2282608\n",
    "\\end{align}\n",
    "$$  \n",
    "\n",
    "Por lo tanto, la probabilidad de que se seleccione una lata contaminada para la prueba es: **0.2282608**."
   ]
  },
  {
   "cell_type": "code",
   "execution_count": 11,
   "id": "9b756ef2-a342-4e11-a307-acb939c01208",
   "metadata": {},
   "outputs": [
    {
     "name": "stdout",
     "output_type": "stream",
     "text": [
      "La probabilidad de seleccionar una lata contaminada es: 0.22826086956521738\n"
     ]
    }
   ],
   "source": [
    "# Implementación de la solución del inciso b) del ejercicio 17\n",
    "combinacionesUnaLataContam = comb(22, 2) * comb(2, 1)\n",
    "probabilidadLataContam = combinacionesUnaLataContam / combinacionesTotales\n",
    "print(\"La probabilidad de seleccionar una lata contaminada es:\", probabilidadLataContam)"
   ]
  },
  {
   "cell_type": "markdown",
   "id": "9fb2b70c-e876-4bbe-99e1-d294a806b3f0",
   "metadata": {},
   "source": [
    "**c) ¿Cuál es la probabilidad de que se seleccione al menos una lata contaminada para la prueba?**  \n",
    "Al igual que en el inciso anterior, necesitamos conocer el número de casos totales (calculado en el inciso a)) y el número de casos favorables. La probabilidad de al menos una indica que los casos favorables incluyen las formas de escoger una o dos latas contaminadas, es decir:  \n",
    "-  Una lata contaminada y dos en buen estado:\n",
    "$$\n",
    "\\begin{align}\n",
    "    {_{22}C_2} \\cdot {_2C_1}\n",
    "\\end{align}\n",
    "$$  \n",
    "-  Dos latas contaminadas y una en buen estado:\n",
    "$$\n",
    "\\begin{align}\n",
    "    {_{22}C_1} \\cdot {_2C_2} \n",
    "\\end{align}\n",
    "$$  \n",
    "\n",
    "En el inciso **b)** se calculó el total de casos en los que se selecciona exactamente una lata contaminada (462). Ahora debemos calcular el número de casos en los que se seleccionan dos latas contaminadas. Para ello, multiplicamos el número de combinaciones de 1 lata en buen estado por las combinaciones posibles de 2 latas contaminadas:  \n",
    "-  **Combinaciones de 1 lata en buen estado**  \n",
    "Primero, se calcula el número de formas en las que se pueden seleccionar 1 lata de las 22 en buen estado:  \n",
    "$$\n",
    "\\begin{align}\n",
    "    _{22}C_1 &= \\dfrac{22!}{1! \\cdot (22 - 1)!}\\\\\\\\\n",
    "    _{22}C_1 &= \\dfrac{22!}{1 \\cdot 21!} = \\dfrac{22}{1} \\dfrac{21!}{21!} = \\dfrac{22}{1}\\\\\\\\\n",
    "    _{22}C_1 &= 22\n",
    "\\end{align}\n",
    "$$\n",
    "-  **Combinaciones de 2 latas contaminadas**  \n",
    "Después, se calcula el número de formas en las que se puede seleccionar 2 latas de las 2 contaminadas: \n",
    "$$\n",
    "\\begin{align}\n",
    "    _{2}C_2 &= \\dfrac{2!}{2! \\cdot (2 - 2)!}\\\\\\\\\n",
    "    _{2}C_2 &= \\dfrac{2}{2 - 0!} = \\dfrac{2}{2 \\cdot 1} = \\dfrac{2}{2}\\\\\\\\\n",
    "    _{2}C_2 &= 1\n",
    "\\end{align}\n",
    "$$  \n",
    "\n",
    "Como en este caso se elige 1 lata en buen estado y 2 contaminadas para la prueba, se multiplican ambos resultados:  \n",
    "$$\n",
    "\\begin{align}\n",
    "    {_{22}C_1} \\cdot {_2C_2} &= 22 \\cdot 1 = 22\n",
    "\\end{align}\n",
    "$$  \n",
    "\n",
    "Ahora que tenemos el total de casos favorables para 1 y 2 latas contaminadas, los sumamos para obtener el total de casos favorables y dividimos por el total de casos posibles, que son todas las combinaciones de 3 latas de las 24 disponibles (2024).  \n",
    "$$\n",
    "\\begin{align}\n",
    "    P(C) &= \\dfrac{462}{2024} + \\dfrac{22}{2024} = \\dfrac{484}{2024} = 0.2391304\n",
    "\\end{align}\n",
    "$$  \n",
    "\n",
    "Por lo tanto, la probabilidad de que se seleccione al menos una lata contaminada para la prueba es: **0.2391304**."
   ]
  },
  {
   "cell_type": "code",
   "execution_count": 12,
   "id": "2dc8588a-7e3f-4844-81c4-70a6b03d8bb9",
   "metadata": {},
   "outputs": [
    {
     "name": "stdout",
     "output_type": "stream",
     "text": [
      "La probabilidad de seleccionar al menos una lata contaminada es: 0.2391304347826087\n"
     ]
    }
   ],
   "source": [
    "# Implementación de la solución del inciso c) del ejercicio 17\n",
    "combinacionesDosLataContam = comb(22, 1) * comb(2, 2)\n",
    "probabilidadAlMenosUnaLataContam = (combinacionesDosLataContam + combinacionesUnaLataContam) / combinacionesTotales\n",
    "print(\"La probabilidad de seleccionar al menos una lata contaminada es:\", probabilidadAlMenosUnaLataContam)"
   ]
  },
  {
   "cell_type": "markdown",
   "id": "4fe3ad9f-5e1b-497f-b00c-6a15ac61a9d9",
   "metadata": {},
   "source": [
    "**d) ¿Y la probabilidad de que no se elijan latas contaminadas para la prueba?**  \n",
    "Para calcular la probabilidad de seleccionar exactamente cero latas contaminadas, necesitamos conocer el número de casos totales (calculado en el inciso **a)**) y el número de casos favorables.  \n",
    "$$\n",
    "\\begin{align}\n",
    "      \\text{Probabilidad de un evento} &= \\dfrac{\\text{Casos favorables}}{\\text{Casos totales}}\n",
    "\\end{align}\n",
    "$$\n",
    "Hay 22 latas en buen estado y 2 que están contaminadas. Para obtener el número de casos favorables, se debe multiplicar el número de combinaciones de 3 latas en buen estado por las combinaciones posibles de 0 latas contaminadas:  \n",
    "-  **Combinaciones de 3 latas en buen estado**  \n",
    "Primero, se calcula el número de formas en las que se pueden seleccionar 3 latas de las 22 en buen estado:  \n",
    "$$\n",
    "\\begin{align}\n",
    "    _{22}C_3 &= \\dfrac{22!}{3! \\cdot (22 - 3)!}\\\\\\\\\n",
    "    _{22}C_3 &= \\dfrac{22!}{3! \\cdot 19!} = \\dfrac{22 \\cdot 21 \\cdot 20}{6} \\dfrac{19!}{19!} = \\dfrac{9240}{6}\\\\\\\\\n",
    "    _{22}C_3 &= 1540\n",
    "\\end{align}\n",
    "$$\n",
    "-  **Combinaciones de 0 latas contaminadas**  \n",
    "Después, se calcula el número de formas en las que se puede seleccionar 0 latas de las 2 contaminadas: \n",
    "$$\n",
    "\\begin{align}\n",
    "    _{2}C_0 &= \\dfrac{2!}{0! \\cdot (2 - 0)!}\\\\\\\\\n",
    "    _{2}C_0 &= \\dfrac{2}{1 \\cdot 2!} = \\dfrac{2}{2} \\\\\\\\\n",
    "    _{2}C_0 &= 1\n",
    "\\end{align}\n",
    "$$  \n",
    "\n",
    "Como se deben elegir 3 latas en buen estado y 0 contaminadas para la prueba, se multiplican ambos resultados para obtener el total de casos favorables:  \n",
    "$$\n",
    "\\begin{align}\n",
    "    _{22}C_3 \\cdot _2C_0 &= 1540 \\cdot 1 = 1540\n",
    "\\end{align}\n",
    "$$  \n",
    "\n",
    "El total de casos posibles son todas las combinaciones de 3 latas de las 24 disponibles (2024) y el número de casos favorables es 1540.  \n",
    "$$\n",
    "\\begin{align}\n",
    "    P(D) &= \\dfrac{1540}{2024} = 0.760869\n",
    "\\end{align}\n",
    "$$  \n",
    "\n",
    "Por lo tanto, la probabilidad de que se seleccionen cero latas contaminadas para la prueba es: **0.760869**."
   ]
  },
  {
   "cell_type": "code",
   "execution_count": 13,
   "id": "1c145e3d-27da-473a-b6be-3ea23c6b87cb",
   "metadata": {},
   "outputs": [
    {
     "name": "stdout",
     "output_type": "stream",
     "text": [
      "La probabilidad de seleccionar cero latas contaminadas es: 0.7608695652173914\n"
     ]
    }
   ],
   "source": [
    "# Implementación de la solución del inciso d) del ejercicio 17\n",
    "combinacionesLatasNoContam = comb(22, 3) * comb(2, 0)\n",
    "probabilidadLatasNoContam = combinacionesLatasNoContam / combinacionesTotales\n",
    "print(\"La probabilidad de seleccionar cero latas contaminadas es:\", probabilidadLatasNoContam)"
   ]
  }
 ],
 "metadata": {
  "kernelspec": {
   "display_name": "Python 3 (ipykernel)",
   "language": "python",
   "name": "python3"
  },
  "language_info": {
   "codemirror_mode": {
    "name": "ipython",
    "version": 3
   },
   "file_extension": ".py",
   "mimetype": "text/x-python",
   "name": "python",
   "nbconvert_exporter": "python",
   "pygments_lexer": "ipython3",
   "version": "3.11.4"
  }
 },
 "nbformat": 4,
 "nbformat_minor": 5
}
