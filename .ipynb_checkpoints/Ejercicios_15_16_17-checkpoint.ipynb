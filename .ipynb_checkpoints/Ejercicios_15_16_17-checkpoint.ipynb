{
 "cells": [
  {
   "cell_type": "markdown",
   "id": "413d0a59-13a5-42b8-b53c-d8d7fbb23b46",
   "metadata": {},
   "source": [
    "## **Menu**  \n",
    "- [Ejercicio 15](#ex_15)\n",
    "- [Ejercicio 16](#ex_16)\n",
    "- [Ejercicio 17](#ex_17)"
   ]
  },
  {
   "cell_type": "code",
   "execution_count": 1,
   "id": "e63abc20-de2b-456d-a835-ee8824d476f0",
   "metadata": {},
   "outputs": [],
   "source": [
    "from math import comb, perm, factorial"
   ]
  },
  {
   "cell_type": "markdown",
   "id": "3082908d-ab70-4fca-90ae-c95ce0ff1f10",
   "metadata": {},
   "source": [
    "<div id=ex_15></div>  \n",
    "\n",
    "---  \n",
    "<span style=\"color: #2168ff; font-size: 23px; font-weight: 600;\">Ejercicio 15</span>  \n",
    "*Futbol.* Tres parejas (tres hombres y tres mujeres) compran boletos para ir a un partido de los Pumas. Cuando llegan al estadio de Ciudad Universitaria les surge la duda de cómo sentarse en la fila. ¿De cuántas maneras pueden hacerlo si:  "
   ]
  },
  {
   "cell_type": "markdown",
   "id": "17ffadc7-333a-4cd5-a0cf-8764495b4cfd",
   "metadata": {},
   "source": [
    "**a) No hay restricciones?**  \n",
    "Dado que hay $6$ personas en total (3 hombres y 3 mujeres) y no hay restricciones sobre cómo deberían sentarse, podemos calcular el número de permutaciones de la siguiente forma:  \n",
    "El número de permutaciones de $n$ objetos distintos es $n!$.\n",
    "$$\n",
    "    n! = n \\cdot (n - 1) \\cdot (n - 2) \\cdot \\text{...} \\cdot 3 \\cdot 2 \\cdot 1\n",
    "$$\n",
    "De esta observación se puede concluir lo siguiente:\n",
    "$$\n",
    "\\begin{align}\n",
    "    6! &= 720\n",
    "\\end{align}\n",
    "$$\n",
    "Por lo tanto, pueden sentarse en la fila de **720** formas diferentes."
   ]
  },
  {
   "cell_type": "code",
   "execution_count": 2,
   "id": "7550e939-112c-4068-8e10-6d98538ee2a4",
   "metadata": {},
   "outputs": [
    {
     "name": "stdout",
     "output_type": "stream",
     "text": [
      "Hay 720 formas distintas en las que pueden sentarse las 6 personas.\n"
     ]
    }
   ],
   "source": [
    "# Implementación de la solución del inciso a) del ejercicio 15\n",
    "n = 6\n",
    "formasTotales = factorial(n)\n",
    "print(f'Hay {formasTotales} formas distintas en las que pueden sentarse las 6 personas.')"
   ]
  },
  {
   "cell_type": "markdown",
   "id": "58fe3e04-03dd-43ff-8b53-936e34110a17",
   "metadata": {},
   "source": [
    "**b) Los hombres deben sentarse juntos?**  \n",
    "Para resolver este caso, consideramos a los 3 hombres como un grupo único, ya que deben sentarse juntos. Esto nos da un total de 4 \"elementos\" para organizar: tres mujeres y un grupo de hombres.\n",
    "<table style=\"border-collapse: separate; border-spacing: 0;\">\n",
    "    <tr>\n",
    "        <td style=\"border: 2px solid black; border-radius: 10px; padding: 3px 10px;\">Mujer 1</td>\n",
    "        <td style=\"border: 2px solid black; border-radius: 10px; padding: 3px 10px;\">Mujer 2</td>\n",
    "        <td style=\"border: 2px solid black; border-radius: 10px; padding: 3px 10px;\">Mujer 3</td>\n",
    "        <td style=\"border: 2px solid black; border-radius: 10px; padding: 3px 5px;\">\n",
    "            <table style=\"border-collapse: separate; border-spacing: 0; margin: 0px;\">\n",
    "                <tr>\n",
    "                    <td style=\"border: 2px solid gray; border-radius: 30px; padding: 4px 6px;\">Hombre 1</td>\n",
    "                    <td style=\"border: 2px solid gray; border-radius: 30px; padding: 4px 6px;\">Hombre 2</td>\n",
    "                    <td style=\"border: 2px solid gray; border-radius: 30px; padding: 4px 6px;\">Hombre 3</td>\n",
    "                </tr>\n",
    "            </table>\n",
    "        </td>\n",
    "    </tr>\n",
    "</table>\n",
    "  \n",
    "Primero, calulamos el número de formas de organizar estos 4 elementos, lo cual es $4!$.   \n",
    "\n",
    "Pero los 3 hombres pueden estar en distinto orden y aun así seguir juntos, lo que equivale a $3!$.   \n",
    "Para determinar cuántas formas hay para que los hombres se sienten juntos, multiplicamos las formas de organizar los 4 elementos por las formas de organizar los hombres dentro de su grupo:  \n",
    "$$\n",
    "\\begin{align}\n",
    "    4! \\cdot 3! &= 24 \\cdot 6 = 144\n",
    "\\end{align}\n",
    "$$\n",
    "Por lo tanto, pueden sentarse en la fila de **144** formas diferentes manteniendo a los hombres juntos."
   ]
  },
  {
   "cell_type": "code",
   "execution_count": 3,
   "id": "0eee3555-11e3-4c43-a407-4b4269fd8ffe",
   "metadata": {},
   "outputs": [
    {
     "name": "stdout",
     "output_type": "stream",
     "text": [
      "Hay 144 formas distintas en las que pueden sentarse estando los hombres juntos.\n"
     ]
    }
   ],
   "source": [
    "# Implementación de la solución del inciso b) del ejercicio 15\n",
    "n, m = 4, 3\n",
    "formasHomJuntos = factorial(n) * factorial(m)\n",
    "print(f'Hay {formasHomJuntos} formas distintas en las que pueden sentarse estando los hombres juntos.')"
   ]
  },
  {
   "cell_type": "markdown",
   "id": "37ddd172-f27e-45d1-879c-41a928b55351",
   "metadata": {},
   "source": [
    "**c) Deben sentarse por parejas?**   \n",
    "En este caso, las personas deben sentarse al lado de otra en específico, formando tres parejas. Podemos calcular el número de formas de hacer esto de la siguiente manera:  \n",
    "Primero, consideramos las parejas como bloques individuales.  \n",
    "<table style=\"border-collapse: separate; border-spacing: 0;\">\n",
    "    <tr>\n",
    "        <td style=\"border: 2px solid black; border-radius: 10px; padding: 3px 5px;\">\n",
    "            <table style=\"border-collapse: separate; border-spacing: 0; margin: 0px;\">\n",
    "                <tr>\n",
    "                    <td style=\"border: 2px solid gray; border-radius: 30px; padding: 4px 6px;\">Hombre 1</td>\n",
    "                    <td style=\"border: 2px solid gray; border-radius: 30px; padding: 4px 12px;\">Mujer 1</td>\n",
    "                </tr>\n",
    "            </table>\n",
    "        </td>\n",
    "        <td style=\"border: 2px solid black; border-radius: 10px; padding: 3px 5px;\">\n",
    "            <table style=\"border-collapse: separate; border-spacing: 0; margin: 0px;\">\n",
    "                <tr>\n",
    "                    <td style=\"border: 2px solid gray; border-radius: 30px; padding: 4px 6px;\">Hombre 2</td>\n",
    "                    <td style=\"border: 2px solid gray; border-radius: 30px; padding: 4px 12px;\">Mujer 2</td>\n",
    "                </tr>\n",
    "            </table>\n",
    "        </td>\n",
    "        <td style=\"border: 2px solid black; border-radius: 10px; padding: 3px 5px;\">\n",
    "            <table style=\"border-collapse: separate; border-spacing: 0; margin: 0px;\">\n",
    "                <tr>\n",
    "                    <td style=\"border: 2px solid gray; border-radius: 30px; padding: 4px 6px;\">Hombre 3</td>\n",
    "                    <td style=\"border: 2px solid gray; border-radius: 30px; padding: 4px 12px;\">Mujer 3</td>\n",
    "                </tr>\n",
    "            </table>\n",
    "        </td>\n",
    "    </tr>\n",
    "</table>  \n",
    "Hay 3 parejas en total, por lo tanto, tenemos $3!$ formas de organizar estas parejas y tanto el hombre como la mujer pueden intercambiar posición, lo que nos da $2!$ formas para cada pareja.  \n",
    "\n",
    "Calculamos el número total de formas combinando estas dos consideraciones:\n",
    "$$\n",
    "\\begin{align}\n",
    "    3! \\cdot (2! \\cdot 2! \\cdot 2!) &= 6 \\cdot 8 = 48\n",
    "\\end{align}\n",
    "$$\n",
    "Las personas pueden sentarse en la fila de **48** formas diferentes formando parejas."
   ]
  },
  {
   "cell_type": "code",
   "execution_count": 4,
   "id": "335fd984-4ea9-4ac1-8995-b448ddfe74fd",
   "metadata": {},
   "outputs": [
    {
     "name": "stdout",
     "output_type": "stream",
     "text": [
      "Hay 48 formas distintas en las que pueden sentarse estando con su respectiva pareja.\n"
     ]
    }
   ],
   "source": [
    "# Implementación de la solución del inciso c) del ejercicio 15\n",
    "formasParejas = factorial(3) * (factorial(2) * factorial(2) * factorial(2))\n",
    "print(f'Hay {formasParejas} formas distintas en las que pueden sentarse estando con su respectiva pareja.')"
   ]
  },
  {
   "cell_type": "markdown",
   "id": "df7f45d0-c4e5-4f23-b243-aace073a8032",
   "metadata": {},
   "source": [
    "**d) ¿Cuál es la probabilidad de cada uno de los eventos descritos en los incisos anteriores?**  \n",
    "Para calcular la probabilidad de cada evento se debe dividir el número de formas favorables entre el total de formas posibles:\n",
    "$$\n",
    "\\begin{align}\n",
    "      \\text{Probabilidad de un evento} &= \\dfrac{\\text{Casos favorables}}{\\text{Casos totales}}\n",
    "\\end{align}\n",
    "$$\n",
    "El total de formas posibles son todas las permutaciones de las 6 personas y los casos favorables son las permutaciones calculadas en los incisos anteriores.  \n",
    "- Probabilidad del evento descrito en el inciso **a)**:\n",
    "$$\n",
    "\\begin{align}\n",
    "    P(A) &= \\dfrac{720}{720} = 1\n",
    "\\end{align}\n",
    "$$  \n",
    "\n",
    "- Probabilidad del evento descrito en el inciso **b)**:\n",
    "$$\n",
    "\\begin{align}\n",
    "    P(B) &= \\dfrac{144}{720} = 0.2\n",
    "\\end{align}\n",
    "$$\n",
    "\n",
    "- Probabilidad del evento descrito en el inciso **c)**:\n",
    "$$\n",
    "\\begin{align}\n",
    "    P(C) &= \\dfrac{48}{720} = 0.0666667\n",
    "\\end{align}\n",
    "$$\n"
   ]
  },
  {
   "cell_type": "code",
   "execution_count": 5,
   "id": "9332f8cd-60fe-4228-9807-75f51b6fd6fb",
   "metadata": {},
   "outputs": [
    {
     "name": "stdout",
     "output_type": "stream",
     "text": [
      "Probabilidad del evento del inciso (a): 1.0\n",
      "Probabilidad del evento del inciso (b): 0.2\n",
      "Probabilidad del evento del inciso (c): 0.06666666666666667\n"
     ]
    }
   ],
   "source": [
    "# Implementación de la solución del inciso d) del ejercicio 15\n",
    "probabilidadDA = formasTotales / formasTotales\n",
    "probabilidadDB = formasHomJuntos / formasTotales\n",
    "probabilidadDC = formasParejas / formasTotales\n",
    "print(\"Probabilidad del evento del inciso (a):\", probabilidadDA)\n",
    "print(\"Probabilidad del evento del inciso (b):\", probabilidadDB)\n",
    "print(\"Probabilidad del evento del inciso (c):\", probabilidadDC)"
   ]
  },
  {
   "cell_type": "markdown",
   "id": "bbc8eb2f-dc50-4266-b7bf-ae07445d4ddc",
   "metadata": {},
   "source": [
    "<div id=ex_16></div>  \n",
    "\n",
    "---  \n",
    "<span style=\"color: #2168ff; font-size: 23px; font-weight: 600;\">Ejercicio 16</span>  \n",
    "*Trabajo en equipo.* En un grupo de 25 alumnos hay 13 chicas y 12 chicos. Se desean formar equipos de trabajo para realizar una investigación: "
   ]
  },
  {
   "cell_type": "markdown",
   "id": "4714c998-eef3-46e6-873e-d6967f0a7a97",
   "metadata": {},
   "source": [
    "**a) ¿Cuántos equipos de cinco personas pueden formarse?**  \n",
    "Dado que no importa el orden en que se seleccionen los integrantes, se utiliza la fórmula de combinaciones.  \n",
    "El número de formas de elegir $r$ elementos de un conjunto de $n$ objetos distintos, sin importar el orden, es:\n",
    "$$\n",
    "\\begin{align}\n",
    "    _nC_r &= \\begin{pmatrix} n \\\\ r \\end{pmatrix} = \\dfrac{n!}{r! \\cdot (n - r)!}\\\\\n",
    "\\end{align}\n",
    "$$\n",
    "Se calculan el número de combinaciones tomando en cuenta los 25 alumnos para formar los equipos de 5.\n",
    "$$\n",
    "\\begin{align}\n",
    "    _{25}C_5 &= \\dfrac{25!}{5! \\cdot (25 - 5)!}\\\\\\\\\n",
    "    _{25}C_5 &= \\dfrac{25!}{120 \\cdot 20!} = \\dfrac{25 \\cdot 24 \\cdot 23  \\cdot 22  \\cdot21}{120} \\dfrac{20!}{20!} = \\dfrac{6375600}{120}\\\\\\\\\n",
    "    _{25}C_5 &= 53130\\\\\\\\\n",
    "\\end{align}\n",
    "$$\n",
    "Por lo tanto, se pueden formar **53130** equipos de 5 integrantes.  "
   ]
  },
  {
   "cell_type": "code",
   "execution_count": 6,
   "id": "6d46e60d-b1a4-46e4-81ef-62710340503f",
   "metadata": {},
   "outputs": [
    {
     "name": "stdout",
     "output_type": "stream",
     "text": [
      "Se pueden formar 53130 equipos diferentes de 5 interantes\n"
     ]
    }
   ],
   "source": [
    "# Implementación de la solución del inciso a) del ejercicio 16\n",
    "n, r = 25, 5\n",
    "equiposCinco = comb(n, r)\n",
    "print(f'Se pueden formar {equiposCinco} equipos diferentes de 5 interantes')"
   ]
  },
  {
   "cell_type": "markdown",
   "id": "4728ccfb-04a6-480b-a107-43b1aff00ee9",
   "metadata": {},
   "source": [
    "**b) ¿Cuántos equipos pueden formarse si debe haber una chica?**  \n",
    "Hay 13 chicas y 12 chicos, por lo que para resolver esto se debe multiplicar el número de combinaciones de 4 chicos por las combinaciones posibles de 1 chica de las 13 que hay en el grupo:  \n",
    "-  **Combinaciones de 4 chicos**  \n",
    "Primero, calculamos el número de formas en las que se pueden seleccionar 4 chicos de los 12 disponibles: \n",
    "$$\n",
    "\\begin{align}\n",
    "    _{12}C_4 &= \\dfrac{12!}{4! \\cdot (12 - 4)!}\\\\\\\\\n",
    "    _{12}C_4 &= \\dfrac{12!}{4! \\cdot 8!} = \\dfrac{12 \\cdot 11 \\cdot 10 \\cdot 9}{24} \\dfrac{8!}{8!} = \\dfrac{11880}{24}\\\\\\\\\n",
    "    _{12}C_4 &= 495\n",
    "\\end{align}\n",
    "$$\n",
    "-  **Combinaciones de 1 chica**  \n",
    "Después, calculamos el número de formas en las que se puede seleccionar 1 chica de las 13 disponibles: \n",
    "$$\n",
    "\\begin{align}\n",
    "    _{13}C_1 &= \\dfrac{13!}{1! \\cdot (13 - 1)!}\\\\\\\\\n",
    "    _{13}C_1 &= \\dfrac{13}{1} \\dfrac{12!}{12!} = \\dfrac{13}{1}\\\\\\\\\n",
    "    _{13}C_1 &= 13\n",
    "\\end{align}\n",
    "$$  \n",
    "\n",
    "Como se deben elegir 4 chicos y una chica en el mismo equipo, se multiplican ambos resultados:\n",
    "$$\n",
    "\\begin{align}\n",
    "    {_{12}C_4} \\cdot {_{13}C_1} &= 495 \\cdot 13 = 6435\n",
    "\\end{align}\n",
    "$$  \n",
    "\n",
    "Por lo tanto, se pueden formar **6435** equipos donde hay exactamente una chica y cuatro chicos."
   ]
  },
  {
   "cell_type": "code",
   "execution_count": 7,
   "id": "1bc1d4ea-eba8-4891-b20f-2b14ced0e27d",
   "metadata": {},
   "outputs": [
    {
     "name": "stdout",
     "output_type": "stream",
     "text": [
      "Se pueden formar 6435 equipos con una chica y cuatro chicos\n"
     ]
    }
   ],
   "source": [
    "# Implementación de la solución del inciso b) del ejercicio 16\n",
    "equiposCincoUnaChica = comb(12, 4) * comb(13, 1)\n",
    "print(f'Se pueden formar {equiposCincoUnaChica} equipos con una chica y cuatro chicos')"
   ]
  },
  {
   "cell_type": "markdown",
   "id": "076704c6-d2c4-47fb-9d90-4e74e5d8e588",
   "metadata": {},
   "source": [
    "**c) ¿Cuántos equipos pueden formarse si debe haber dos chicas?**  \n",
    "Para este caso, debemos formar combinaciones de 3 chicos y 2 chicas. Aplicamos el mismo razonamiento que en el inciso anterior.\n",
    "-  **Combinaciones de 3 chicos**  \n",
    "Primero, calculamos el número de formas en las que se pueden seleccionar 3 chicos de los 12 disponibles: \n",
    "$$\n",
    "\\begin{align}\n",
    "    _{12}C_3 &= \\dfrac{12!}{3! \\cdot (12 - 3)!}\\\\\\\\\n",
    "    _{12}C_3 &= \\dfrac{12!}{3! \\cdot 9!} = \\dfrac{12 \\cdot 11 \\cdot 10}{6} \\dfrac{9!}{9!} = \\dfrac{1320}{6}\\\\\\\\\n",
    "    _{12}C_3 &= 220\n",
    "\\end{align}\n",
    "$$\n",
    "-  **Combinaciones de 2 chicas**  \n",
    "Después, calculamos el número de formas en las que se pueden seleccionar 2 chicas de las 13 disponibles: \n",
    "$$\n",
    "\\begin{align}\n",
    "    _{13}C_2 &= \\dfrac{13!}{2! \\cdot (13 - 2)!}\\\\\\\\\n",
    "    _{13}C_2 &= \\dfrac{13!}{2! \\cdot 11!} = \\dfrac{13 \\cdot 12}{2} \\dfrac{11!}{11!} = \\dfrac{156}{2}\\\\\\\\\n",
    "    _{13}C_2 &= 78\n",
    "\\end{align}\n",
    "$$  \n",
    "\n",
    "Para obtener el total de equipos donde hay exactamente dos chicas y tres chicos, multiplicamos ambos resultados:\n",
    "$$\n",
    "\\begin{align}\n",
    "    {_{12}C_3} \\cdot {_{13}C_2} &= 220 \\cdot 78 = 17160\n",
    "\\end{align}\n",
    "$$  \n",
    "\n",
    "Por lo tanto, se pueden formar **17160** equipos donde hay exactamente dos chicas y tres chicos."
   ]
  },
  {
   "cell_type": "code",
   "execution_count": 8,
   "id": "5a0e1328-0fae-48f5-b729-a86a971ce5be",
   "metadata": {},
   "outputs": [
    {
     "name": "stdout",
     "output_type": "stream",
     "text": [
      "Se pueden formar 17160 equipos con dos chicas y tres chicos\n"
     ]
    }
   ],
   "source": [
    "# Implementación de la solución del inciso c) del ejercicio 16\n",
    "equiposCincoDosChicas = comb(12, 3) * comb(13, 2)\n",
    "print(f'Se pueden formar {equiposCincoDosChicas} equipos con dos chicas y tres chicos')"
   ]
  },
  {
   "cell_type": "markdown",
   "id": "eb9199dd-8f0f-4643-a469-cd60db4763bf",
   "metadata": {},
   "source": [
    "**d) Determina las probabilidades correspondientes a los incisos anteriores.**  \n",
    "Para calcular la probabilidad de cada evento se debe dividir el número de equipos formados que son favorables entre el total de equipos que es posible formar:\n",
    "$$\n",
    "\\begin{align}\n",
    "      \\text{Probabilidad de un evento} &= \\dfrac{\\text{Casos favorables}}{\\text{Casos totales}}\n",
    "\\end{align}\n",
    "$$\n",
    "El total de equipos posibles con 5 integrantes son todas las combinaciones de 5 alumnos de los 25 disponibles (53130) y los casos favorables son las combinaciones calculadas en los incisos anteriores.  \n",
    "- Probabilidad del evento descrito en el inciso **a)**:\n",
    "$$\n",
    "\\begin{align}\n",
    "    P(A) &= \\dfrac{53130}{53130} = 1\n",
    "\\end{align}\n",
    "$$  \n",
    "\n",
    "- Probabilidad del evento descrito en el inciso **b)**:\n",
    "$$\n",
    "\\begin{align}\n",
    "    P(B) &= \\dfrac{6435}{53130} = 0.1211180\n",
    "\\end{align}\n",
    "$$\n",
    "\n",
    "- Probabilidad del evento descrito en el inciso **c)**:\n",
    "$$\n",
    "\\begin{align}\n",
    "    P(C) &= \\dfrac{17160}{53130} = 0.3229813\n",
    "\\end{align}\n",
    "$$\n"
   ]
  },
  {
   "cell_type": "code",
   "execution_count": 9,
   "id": "2afa28ae-c7b8-45d6-a038-39f019670ca5",
   "metadata": {},
   "outputs": [
    {
     "name": "stdout",
     "output_type": "stream",
     "text": [
      "Probabilidad del evento del inciso (a): 1.0\n",
      "Probabilidad del evento del inciso (b): 0.12111801242236025\n",
      "Probabilidad del evento del inciso (c): 0.32298136645962733\n"
     ]
    }
   ],
   "source": [
    "# Implementación de la solución del inciso d) del ejercicio 16\n",
    "probabilidadEqA = equiposCinco / equiposCinco\n",
    "probabilidadEqB = equiposCincoUnaChica / equiposCinco\n",
    "probabilidadEqC = equiposCincoDosChicas / equiposCinco\n",
    "print(\"Probabilidad del evento del inciso (a):\", probabilidadEqA)\n",
    "print(\"Probabilidad del evento del inciso (b):\", probabilidadEqB)\n",
    "print(\"Probabilidad del evento del inciso (c):\", probabilidadEqC)"
   ]
  },
  {
   "cell_type": "markdown",
   "id": "a9e4d617-2521-4dd3-a399-52c918815f41",
   "metadata": {},
   "source": [
    "<div id=ex_17></div>  \n",
    "\n",
    "---  \n",
    "<span style=\"color: #2168ff; font-size: 23px; font-weight: 600;\">Ejercicio 17</span>  \n",
    "*Control de calidad.* Se tiene una caja con 24 latas y se sabe que dos están contaminadas. Se van a seleccionar tres latas al azar para someterlas a una prueba de control de calidad, es decir, para medir los estándares de calidad de la empresa.  "
   ]
  },
  {
   "cell_type": "markdown",
   "id": "101dfe9f-ba97-4376-b5e6-10346ba1297c",
   "metadata": {},
   "source": [
    "**a) ¿Cuántas combinaciones de tres latas pueden hacerse?**  \n",
    "Para este problema, no importa el orden en que se seleccionen las latas, por lo que utilizamos la fórmula de combinaciones.  \n",
    "El número de formas de elegir $r$ elementos de un conjunto de $n$ objetos distintos, sin importar \n",
    "el orden, es:\n",
    "$$\n",
    "\\begin{align}\n",
    "    _nC_r &= \\begin{pmatrix} n \\\\ r \\end{pmatrix} = \\dfrac{n!}{r! \\cdot (n - r)!}\\\\\n",
    "\\end{align}\n",
    "$$\n",
    "Se calculan las combinaciones de 3 latas seleccionadas de un total de 24 latas:  \n",
    "$$\n",
    "\\begin{align}\n",
    "    _{24}C_3 &= \\dfrac{24!}{3! \\cdot (24 - 3)!}\\\\\\\\\n",
    "    _{24}C_3 &= \\dfrac{24!}{6 \\cdot 21!} = \\dfrac{24 \\cdot 23  \\cdot 22}{6} \\dfrac{21!}{21!} = \\dfrac{12144}{6}\\\\\\\\\n",
    "    _{24}C_3 &= 2024\\\\\\\\\n",
    "\\end{align}\n",
    "$$\n",
    "Por lo tanto, se pueden formar **2024** combinaciones de tres latas."
   ]
  },
  {
   "cell_type": "code",
   "execution_count": 10,
   "id": "3be0f570-75ff-4c2d-a9a9-3a3484ca1db0",
   "metadata": {},
   "outputs": [
    {
     "name": "stdout",
     "output_type": "stream",
     "text": [
      "Se pueden formar 2024 combinaciones de tres latas\n"
     ]
    }
   ],
   "source": [
    "# Implementación de la solución del inciso a) del ejercicio 17\n",
    "n, r = 24, 3\n",
    "combinacionesTotales = comb(n, r)\n",
    "print(f\"Se pueden formar {combinacionesTotales} combinaciones de tres latas\")"
   ]
  },
  {
   "cell_type": "markdown",
   "id": "93b20ab0-c0e2-4bed-b5c1-64e5e936ebbc",
   "metadata": {},
   "source": [
    "**b) ¿Cuál es la probabilidad de que se seleccione una lata contaminada para la prueba?**  \n",
    "Para calcular la probabilidad de seleccionar exactamente una lata contaminada, necesitamos conocer el número de casos totales (calculado en el inciso **a)**) y el número de casos favorables.  \n",
    "La probabilidad de un evento se calcula como:  \n",
    "$$\n",
    "\\begin{align}\n",
    "      \\text{Probabilidad de un evento} &= \\dfrac{\\text{Casos favorables}}{\\text{Casos totales}}\n",
    "\\end{align}\n",
    "$$\n",
    "Hay 22 latas en buen estado y 2 que están contaminadas. Para obtener el número de casos favorables, se debe multiplicar el número de combinaciones de 2 latas en buen estado por las combinaciones posibles de 1 lata contaminada:  \n",
    "-  **Combinaciones de 2 latas en buen estado**  \n",
    "Primero, se calcula el número de formas en las que se pueden seleccionar 2 latas de las 22 en buen estado:  \n",
    "$$\n",
    "\\begin{align}\n",
    "    _{22}C_2 &= \\dfrac{22!}{2! \\cdot (22 - 2)!}\\\\\\\\\n",
    "    _{22}C_2 &= \\dfrac{22!}{2! \\cdot 20!} = \\dfrac{22 \\cdot 21}{2} \\dfrac{20!}{20!} = \\dfrac{462}{2}\\\\\\\\\n",
    "    _{22}C_2 &= 231\n",
    "\\end{align}\n",
    "$$\n",
    "-  **Combinaciones de 1 lata contaminada**  \n",
    "Después, se calcula el número de formas en las que se puede seleccionar 1 lata de las 2 contaminadas: \n",
    "$$\n",
    "\\begin{align}\n",
    "    _{2}C_1 &= \\dfrac{2!}{1! \\cdot (2 - 1)!}\\\\\\\\\n",
    "    _{2}C_1 &= \\dfrac{2}{1} \\\\\\\\\n",
    "    _{2}C_1 &= 2\n",
    "\\end{align}\n",
    "$$  \n",
    "\n",
    "Como se deben elegir 2 latas en buen estado y 1 contaminada para la prueba, se multiplican ambos resultados para obtener el total de casos favorables:  \n",
    "$$\n",
    "\\begin{align}\n",
    "    _{22}C_2 \\cdot _2C_1 &= 231 \\cdot 2 = 462\n",
    "\\end{align}\n",
    "$$  \n",
    "\n",
    "El total de casos posibles son todas las combinaciones de 3 latas de las 24 disponibles (2024) y el número de casos favorables es 462.  \n",
    "$$\n",
    "\\begin{align}\n",
    "    P(B) &= \\dfrac{462}{2024} = 0.2282608\n",
    "\\end{align}\n",
    "$$  \n",
    "\n",
    "Por lo tanto, la probabilidad de que se seleccione una lata contaminada para la prueba es: **0.2282608**."
   ]
  },
  {
   "cell_type": "code",
   "execution_count": 11,
   "id": "aec08e66-fae0-49a4-8c62-32e3b3b1f397",
   "metadata": {},
   "outputs": [
    {
     "name": "stdout",
     "output_type": "stream",
     "text": [
      "La probabilidad de seleccionar una lata contaminada es: 0.22826086956521738\n"
     ]
    }
   ],
   "source": [
    "# Implementación de la solución del inciso b) del ejercicio 17\n",
    "combinacionesUnaLataContam = comb(22, 2) * comb(2, 1)\n",
    "probabilidadLataContam = combinacionesUnaLataContam / combinacionesTotales\n",
    "print(\"La probabilidad de seleccionar una lata contaminada es:\", probabilidadLataContam)"
   ]
  },
  {
   "cell_type": "markdown",
   "id": "9d7c8120-a972-44ac-b006-20ab9014c020",
   "metadata": {},
   "source": [
    "**c) ¿Cuál es la probabilidad de que se seleccione al menos una lata contaminada para la prueba?**  \n",
    "Al igual que en el inciso anterior, necesitamos conocer el número de casos totales (calculado en el inciso a)) y el número de casos favorables. La probabilidad de al menos una indica que los casos favorables incluyen las formas de escoger una o dos latas contaminadas, es decir:  \n",
    "-  Una lata contaminada y dos en buen estado:\n",
    "$$\n",
    "\\begin{align}\n",
    "    {_{22}C_2} \\cdot {_2C_1}\n",
    "\\end{align}\n",
    "$$  \n",
    "-  Dos latas contaminadas y una en buen estado:\n",
    "$$\n",
    "\\begin{align}\n",
    "    {_{22}C_1} \\cdot {_2C_2} \n",
    "\\end{align}\n",
    "$$  \n",
    "\n",
    "En el inciso **b)** se calculó el total de casos en los que se selecciona exactamente una lata contaminada (462). Ahora debemos calcular el número de casos en los que se seleccionan dos latas contaminadas. Para ello, multiplicamos el número de combinaciones de 1 lata en buen estado por las combinaciones posibles de 2 latas contaminadas:  \n",
    "-  **Combinaciones de 1 lata en buen estado**  \n",
    "Primero, se calcula el número de formas en las que se pueden seleccionar 1 lata de las 22 en buen estado:  \n",
    "$$\n",
    "\\begin{align}\n",
    "    _{22}C_1 &= \\dfrac{22!}{1! \\cdot (22 - 1)!}\\\\\\\\\n",
    "    _{22}C_1 &= \\dfrac{22!}{1 \\cdot 21!} = \\dfrac{22}{1} \\dfrac{21!}{21!} = \\dfrac{22}{1}\\\\\\\\\n",
    "    _{22}C_1 &= 22\n",
    "\\end{align}\n",
    "$$\n",
    "-  **Combinaciones de 2 latas contaminadas**  \n",
    "Después, se calcula el número de formas en las que se puede seleccionar 2 latas de las 2 contaminadas: \n",
    "$$\n",
    "\\begin{align}\n",
    "    _{2}C_2 &= \\dfrac{2!}{2! \\cdot (2 - 2)!}\\\\\\\\\n",
    "    _{2}C_2 &= \\dfrac{2}{2 - 0!} = \\dfrac{2}{2 \\cdot 1} = \\dfrac{2}{2}\\\\\\\\\n",
    "    _{2}C_2 &= 1\n",
    "\\end{align}\n",
    "$$  \n",
    "\n",
    "Como en este caso se elige 1 lata en buen estado y 2 contaminadas para la prueba, se multiplican ambos resultados:  \n",
    "$$\n",
    "\\begin{align}\n",
    "    {_{22}C_1} \\cdot {_2C_2} &= 22 \\cdot 1 = 22\n",
    "\\end{align}\n",
    "$$  \n",
    "\n",
    "Ahora que tenemos el total de casos favorables para 1 y 2 latas contaminadas, los sumamos para obtener el total de casos favorables y dividimos por el total de casos posibles, que son todas las combinaciones de 3 latas de las 24 disponibles (2024).  \n",
    "$$\n",
    "\\begin{align}\n",
    "    P(C) &= \\dfrac{462}{2024} + \\dfrac{22}{2024} = \\dfrac{484}{2024} = 0.2391304\n",
    "\\end{align}\n",
    "$$  \n",
    "\n",
    "Por lo tanto, la probabilidad de que se seleccione al menos una lata contaminada para la prueba es: **0.2391304**."
   ]
  },
  {
   "cell_type": "code",
   "execution_count": 12,
   "id": "d9e69c66-fb0c-41d5-88d8-fe0cd36f471b",
   "metadata": {},
   "outputs": [
    {
     "name": "stdout",
     "output_type": "stream",
     "text": [
      "La probabilidad de seleccionar al menos una lata contaminada es: 0.2391304347826087\n"
     ]
    }
   ],
   "source": [
    "# Implementación de la solución del inciso c) del ejercicio 17\n",
    "combinacionesDosLataContam = comb(22, 1) * comb(2, 2)\n",
    "probabilidadAlMenosUnaLataContam = (combinacionesDosLataContam + combinacionesUnaLataContam) / combinacionesTotales\n",
    "print(\"La probabilidad de seleccionar al menos una lata contaminada es:\", probabilidadAlMenosUnaLataContam)"
   ]
  },
  {
   "cell_type": "markdown",
   "id": "7b774b03-0aab-4c10-8557-686d49cd11fe",
   "metadata": {},
   "source": [
    "**d) ¿Y la probabilidad de que no se elijan latas contaminadas para la prueba?**  \n",
    "Para calcular la probabilidad de seleccionar exactamente cero latas contaminadas, necesitamos conocer el número de casos totales (calculado en el inciso **a)**) y el número de casos favorables.  \n",
    "$$\n",
    "\\begin{align}\n",
    "      \\text{Probabilidad de un evento} &= \\dfrac{\\text{Casos favorables}}{\\text{Casos totales}}\n",
    "\\end{align}\n",
    "$$\n",
    "Hay 22 latas en buen estado y 2 que están contaminadas. Para obtener el número de casos favorables, se debe multiplicar el número de combinaciones de 3 latas en buen estado por las combinaciones posibles de 0 latas contaminadas:  \n",
    "-  **Combinaciones de 3 latas en buen estado**  \n",
    "Primero, se calcula el número de formas en las que se pueden seleccionar 3 latas de las 22 en buen estado:  \n",
    "$$\n",
    "\\begin{align}\n",
    "    _{22}C_3 &= \\dfrac{22!}{3! \\cdot (22 - 3)!}\\\\\\\\\n",
    "    _{22}C_3 &= \\dfrac{22!}{3! \\cdot 19!} = \\dfrac{22 \\cdot 21 \\cdot 20}{6} \\dfrac{19!}{19!} = \\dfrac{9240}{6}\\\\\\\\\n",
    "    _{22}C_3 &= 1540\n",
    "\\end{align}\n",
    "$$\n",
    "-  **Combinaciones de 0 latas contaminadas**  \n",
    "Después, se calcula el número de formas en las que se puede seleccionar 0 latas de las 2 contaminadas: \n",
    "$$\n",
    "\\begin{align}\n",
    "    _{2}C_0 &= \\dfrac{2!}{0! \\cdot (2 - 0)!}\\\\\\\\\n",
    "    _{2}C_0 &= \\dfrac{2}{1 \\cdot 2!} = \\dfrac{2}{2} \\\\\\\\\n",
    "    _{2}C_0 &= 1\n",
    "\\end{align}\n",
    "$$  \n",
    "\n",
    "Como se deben elegir 3 latas en buen estado y 0 contaminadas para la prueba, se multiplican ambos resultados para obtener el total de casos favorables:  \n",
    "$$\n",
    "\\begin{align}\n",
    "    _{22}C_3 \\cdot _2C_0 &= 1540 \\cdot 1 = 1540\n",
    "\\end{align}\n",
    "$$  \n",
    "\n",
    "El total de casos posibles son todas las combinaciones de 3 latas de las 24 disponibles (2024) y el número de casos favorables es 1540.  \n",
    "$$\n",
    "\\begin{align}\n",
    "    P(D) &= \\dfrac{1540}{2024} = 0.760869\n",
    "\\end{align}\n",
    "$$  \n",
    "\n",
    "Por lo tanto, la probabilidad de que se seleccionen cero latas contaminadas para la prueba es: **0.760869**."
   ]
  },
  {
   "cell_type": "code",
   "execution_count": 13,
   "id": "ad8177bc-08c6-4739-88b8-ef4368ee94b3",
   "metadata": {},
   "outputs": [
    {
     "name": "stdout",
     "output_type": "stream",
     "text": [
      "La probabilidad de seleccionar cero latas contaminadas es: 0.7608695652173914\n"
     ]
    }
   ],
   "source": [
    "# Implementación de la solución del inciso d) del ejercicio 17\n",
    "combinacionesLatasNoContam = comb(22, 3) * comb(2, 0)\n",
    "probabilidadLatasNoContam = combinacionesLatasNoContam / combinacionesTotales\n",
    "print(\"La probabilidad de seleccionar cero latas contaminadas es:\", probabilidadLatasNoContam)"
   ]
  }
 ],
 "metadata": {
  "kernelspec": {
   "display_name": "Python 3 (ipykernel)",
   "language": "python",
   "name": "python3"
  },
  "language_info": {
   "codemirror_mode": {
    "name": "ipython",
    "version": 3
   },
   "file_extension": ".py",
   "mimetype": "text/x-python",
   "name": "python",
   "nbconvert_exporter": "python",
   "pygments_lexer": "ipython3",
   "version": "3.11.4"
  }
 },
 "nbformat": 4,
 "nbformat_minor": 5
}
