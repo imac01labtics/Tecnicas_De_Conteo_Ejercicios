{
 "cells": [
  {
   "cell_type": "markdown",
   "metadata": {},
   "source": [
    "# **Ejercicio 14: Finanzas** #"
   ]
  },
  {
   "cell_type": "markdown",
   "metadata": {},
   "source": [
    "##### Se va a formar un portafolio de inversión de cuatro instrumentos financieros a partir de cinco de renta fija y seis de renta variable. ¿De cuántas maneras podría formarse el portafolio si:  ##### \n",
    "**a)** No hay restricciones?  \n",
    "**b)** Debe haber dos instrumentos de renta fija y dos de renta variable?  \n",
    "**c)** No debe haber ningún instrumento de renta fija?  \n",
    "**d)** Debe haber tres instrumentos de renta fija?  \n",
    "**e)** Calcula las probabilidades para los incisos anteriores.  "
   ]
  },
  {
   "cell_type": "code",
   "execution_count": 9,
   "metadata": {},
   "outputs": [
    {
     "name": "stdout",
     "output_type": "stream",
     "text": [
      "a) Hay 330 maneras de formar el portafolio sin restricciones\n",
      "b) Hay 150 maneras de formar el portafolio con dos instrumentos de renta fija y dos de renta variable \n",
      "c) Hay 15 maneras de formar el portafolio sin ningún instrumento de renta fija\n",
      "d) Hay 60  maneras de formar el portafolio con tres instrumentos de renta fija y uno de renta variable\n",
      "3) Probabilidades\n",
      "   Probabilidad inciso (a): 1.0 = 100%\n",
      "   Probabilidad inciso (b): 0.45454545454545453 = 45.45%\n",
      "   Probabilidad inciso (c): 0.045454545454545456 = 4.55%\n",
      "   Probabilidad inciso (d): 0.18181818181818182 = 18.18%\n"
     ]
    }
   ],
   "source": [
    "# IMPORTACIONES\n",
    "from math import comb, perm, factorial\n",
    "\n",
    "#### a) ####\n",
    "formasPortaforlioTotales = comb(11, 4)\n",
    "print(\"a) Hay\", formasPortaforlioTotales, \"maneras de formar el portafolio sin restricciones\")\n",
    "\n",
    "#### b) ####\n",
    "formasPortaforlio2RF2RV = comb(5, 2) * comb(6, 2)\n",
    "print(\"b) Hay\", formasPortaforlio2RF2RV, \"maneras de formar el portafolio con dos instrumentos de renta fija y dos de renta variable \")\n",
    "\n",
    "#### c) ####\n",
    "formasPortaforlioNoRF = comb(5, 0) * comb(6, 4)\n",
    "print(\"c) Hay\", formasPortaforlioNoRF, \"maneras de formar el portafolio sin ningún instrumento de renta fija\")\n",
    "\n",
    "#### d) ####\n",
    "formasPortaforlio3RF =  comb(5, 3) * comb(6, 1)\n",
    "print(\"d) Hay\", formasPortaforlio3RF, \" maneras de formar el portafolio con tres instrumentos de renta fija y uno de renta variable\")\n",
    "\n",
    "#### e) ####\n",
    "probabilidadEA = formasPortaforlioTotales / formasPortaforlioTotales\n",
    "probabilidadEB = formasPortaforlio2RF2RV / formasPortaforlioTotales\n",
    "probabilidadEC = formasPortaforlioNoRF / formasPortaforlioTotales\n",
    "probabilidadED = formasPortaforlio3RF / formasPortaforlioTotales\n",
    "print(\"3) Probabilidades\")\n",
    "print(\"   Probabilidad inciso (a):\", probabilidadEA, \"= 100%\")\n",
    "print(\"   Probabilidad inciso (b):\", probabilidadEB, \"= 45.45%\")\n",
    "print(\"   Probabilidad inciso (c):\", probabilidadEC, \"= 4.55%\")\n",
    "print(\"   Probabilidad inciso (d):\", probabilidadED, \"= 18.18%\")"
   ]
  },
  {
   "cell_type": "markdown",
   "metadata": {},
   "source": [
    "##### Se va a formar un portafolio de inversión de cuatro instrumentos financieros a partir de cinco de renta fija y seis de renta variable. ¿De cuántas maneras podría formarse el portafolio si:  ##### \n",
    "\n",
    "a) **¿De cuántas maneras podría formarse el portafolio si no hay restricciones?**\n",
    "\n",
    "Para determinar el número de maneras en que puede formarse el portafolio sin restricciones, seleccionamos 4 instrumentos financieros de un total de 11 (5 de renta fija y 6 de renta variable). Utilizamos combinaciones:\n",
    "\n",
    "$$\n",
    "_{11}C_{4} = \\frac{11!}{4!(11-4)!} = \\frac{11 \\cdot 10 \\cdot 9 \\cdot 8}{4 \\cdot 3 \\cdot 2 \\cdot 1} = 330\n",
    "$$\n",
    "\n",
    "Por lo tanto, hay **330 maneras** de formar el portafolio sin restricciones.\n",
    "\n",
    "b) **¿De cuántas maneras podría formarse el portafolio si debe haber dos instrumentos de renta fija y dos de renta variable?**\n",
    "\n",
    "Para esta parte, seleccionamos 2 instrumentos de renta fija de 5 disponibles y 2 instrumentos de renta variable de 6 disponibles:\n",
    "\n",
    "$$\n",
    "_{5}C_{2} \\times _{6}C_{2} = \\frac{5!}{2!(5-2)!} \\times \\frac{6!}{2!(6-2)!} = 10 \\times 15 = 150\n",
    "$$\n",
    "\n",
    "Hay **150 maneras** de formar el portafolio con dos instrumentos de renta fija y dos de renta variable.\n",
    "\n",
    "c) **¿De cuántas maneras podría formarse el portafolio si no debe haber ningún instrumento de renta fija?**\n",
    "\n",
    "Seleccionamos los 4 instrumentos del total de 6 disponibles de renta variable:\n",
    "\n",
    "$$\n",
    "_{6}C_{4}= \\frac{6!}{4!(6-4)!} = \\frac{6 \\cdot 5}{2 \\cdot 1} = 15\n",
    "$$\n",
    "\n",
    "Hay **15 maneras** de formar el portafolio sin ningún instrumento de renta fija.\n",
    "\n",
    "d) **¿De cuántas maneras podría formarse el portafolio si debe haber tres instrumentos de renta fija?**\n",
    "\n",
    "Seleccionamos 3 instrumentos de renta fija de los 5 disponibles y 1 instrumento de renta variable de los 6 disponibles:\n",
    "\n",
    "$$\n",
    " _{5}C_{3} \\times _{6}C_{1} = \\frac{5!}{3!(5-3)!} \\times \\frac{6!}{1!(6-1)!} = 10 \\times 6 = 60\n",
    "$$\n",
    "\n",
    "Hay **60 maneras** de formar el portafolio con tres instrumentos de renta fija y uno de renta variable.\n",
    "\n",
    "e) **Calcula las probabilidades para los incisos anteriores.**\n",
    "\n",
    "Para calcular las probabilidades, primero determinamos el número total de maneras de formar el portafolio (en el inciso a), ya calculado como 330. Luego, dividimos el número de maneras de cada caso entre este total:  \n",
    "El caclulo de la probabilidad  de un evento especifico se calcula mediante el uso de esta formula: \n",
    "$$ P(A) = \\frac{\\text{Número de resultados favorables}}{\\text{Número total de resultados posibles}} $$\n",
    "\n",
    "\n",
    "- Para el inciso a) (dos de renta fija y dos de renta variable): $$  \\frac{330}{330} = 1 = 100\\% $$\n",
    "- Para el inciso b) (dos de renta fija y dos de renta variable): $$  \\frac{150}{330} = 0.45454545454545453 =45.45\\% $$\n",
    "- Para el inciso c) (ningún instrumento de renta fija): $$  \\frac{15}{330} = 0.045454545454545456 = 4.55\\% $$\n",
    "- Para el inciso d) (tres de renta fija y uno de renta variable): $$  \\frac{60}{330} = 0.18181818181818182 = 18.18\\% $$\n",
    "\n"
   ]
  }
 ],
 "metadata": {
  "kernelspec": {
   "display_name": "Python 3 (ipykernel)",
   "language": "python",
   "name": "python3"
  },
  "language_info": {
   "codemirror_mode": {
    "name": "ipython",
    "version": 3
   },
   "file_extension": ".py",
   "mimetype": "text/x-python",
   "name": "python",
   "nbconvert_exporter": "python",
   "pygments_lexer": "ipython3",
   "version": "3.11.4"
  }
 },
 "nbformat": 4,
 "nbformat_minor": 4
}
