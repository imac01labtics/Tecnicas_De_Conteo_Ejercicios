{
 "cells": [
  {
   "cell_type": "markdown",
   "id": "616798e1-5e69-4d9a-9e62-c5bd748e4614",
   "metadata": {},
   "source": [
    "## Ejercicio 9 "
   ]
  },
  {
   "cell_type": "markdown",
   "id": "6b6ae3f6-c1dc-42b5-a4f2-239884258089",
   "metadata": {},
   "source": [
    "ejercico 9. Sólo para prácticar. Los números telefónicos en la ciudad de Cuernavaca, Morelos, constan de \n",
    " siete dígitos.\n",
    "\n"
   ]
  },
  {
   "cell_type": "markdown",
   "id": "51928e92-4364-4a97-80c3-55edbe647278",
   "metadata": {},
   "source": [
    "a)  ¿Cuántas líneas telefónicas pueden crearse en esa ciudad? Recuerda que no pueden comenzar con cero.\n"
   ]
  },
  {
   "cell_type": "markdown",
   "id": "df360a5a-a8b1-4379-ae84-239cff6b5621",
   "metadata": {},
   "source": [
    "Para poder calcular el total de lineas telefónicas que se pueden crear en Cuernavaca, debemos considerar, según el ejercicio, que no debe comenzar en 0, por tanto el primero empezará con 9 posibles opciones mientras que el resto tendran las 10 opcines (0-9).\n",
    "entonces tendremos algo parecido a lo siguiente: \n",
    "$$\n",
    "\\begin{align}\n",
    "    9 \\cdot 10 \\cdot 10  \\cdot 10 \\cdot 10 \\cdot 10 \\cdot 10  = 9000000.\n",
    "\\end{align}\n",
    "$$\n",
    "o lo equivalente a: \n",
    "\n",
    " $$\n",
    "\\begin{align}\n",
    "    9 \\cdot 10^6  = 9000000.\n",
    "\\end{align}\n",
    "$$\n",
    "Esto debido a que existen 6 espacios con 10 opciones,  es decir del (0-9), mientras que el primer digito solo cuenta con 9 dado que no se toma en cuenta el 0.    Lo que nos deja como resultado que se pueden crear 9000000 lineas telefónicas en Cuernavaca"
   ]
  },
  {
   "cell_type": "code",
   "execution_count": 25,
   "id": "50dc1c04-31fb-470a-8286-dc59b651edb0",
   "metadata": {},
   "outputs": [
    {
     "name": "stdout",
     "output_type": "stream",
     "text": [
      "Hay 9000000 lineas telefónicas, tomando en cuenta que no empiezan con 0 \n"
     ]
    }
   ],
   "source": [
    "# Implementacion de la solucion del inciso a) del ejercicio 9\n",
    "\n",
    "print(f'Hay {(9*(10**6))} lineas telefónicas, tomando en cuenta que no empiezan con 0 ')"
   ]
  },
  {
   "cell_type": "markdown",
   "id": "81054677-9ac2-4bcc-9a87-cd83ecb68b4c",
   "metadata": {},
   "source": [
    "b)Si los tres primeros dígitos representan una zona de Cuernavaca, ¿cuántas líneas telefónicas pertenecen a la zona 326?"
   ]
  },
  {
   "cell_type": "markdown",
   "id": "d7eb01a6-36f3-4445-8275-83f9866b7b08",
   "metadata": {},
   "source": [
    "El ejercico dice que solo podemos hacer convinaciones de 7 digitos, sin embargo, para este inciso solo podremos\n",
    "usar 4, dado que los 3 primeros digitos serán ocupados por los números 3,2,6 , lo que nos deja 10 opciones para los 4 \n",
    "digitos restantes. quedando de la siguiente manera:\n",
    "$$\n",
    "\\begin{align}\n",
    "    10 \\cdot 10  \\cdot 10 \\cdot 10  = 10,000.\n",
    "\\end{align}\n",
    "$$\n",
    "o lo equivalente a: \n",
    "\n",
    " $$\n",
    "\\begin{align}\n",
    "    10^4  = 10,000.\n",
    "\\end{align}\n",
    "$$\n",
    "Por tanto la cantidad de lineas telefónicas que pertenecen a la zona 326, son 10,000\n"
   ]
  },
  {
   "cell_type": "code",
   "execution_count": 28,
   "id": "49215643-2550-4d0f-88ac-a18d49d816a2",
   "metadata": {},
   "outputs": [
    {
     "name": "stdout",
     "output_type": "stream",
     "text": [
      "Hay 10000 lineas telefónicas pertenecientes a la zona 326 \n"
     ]
    }
   ],
   "source": [
    "# Implementacion de la solucion del inciso b) del ejercicio 9\n",
    "\n",
    "print(f'Hay {((10**4))} lineas telefónicas pertenecientes a la zona 326 ')"
   ]
  },
  {
   "cell_type": "markdown",
   "id": "ee43c8b5-f8d9-4da1-9606-6b69166d4919",
   "metadata": {},
   "source": [
    "\n",
    "\n"
   ]
  },
  {
   "cell_type": "code",
   "execution_count": null,
   "id": "8541811a-981e-4b2c-a9c4-143b7dd3b5f0",
   "metadata": {},
   "outputs": [],
   "source": []
  }
 ],
 "metadata": {
  "kernelspec": {
   "display_name": "Python 3 (ipykernel)",
   "language": "python",
   "name": "python3"
  },
  "language_info": {
   "codemirror_mode": {
    "name": "ipython",
    "version": 3
   },
   "file_extension": ".py",
   "mimetype": "text/x-python",
   "name": "python",
   "nbconvert_exporter": "python",
   "pygments_lexer": "ipython3",
   "version": "3.12.2"
  }
 },
 "nbformat": 4,
 "nbformat_minor": 5
}
