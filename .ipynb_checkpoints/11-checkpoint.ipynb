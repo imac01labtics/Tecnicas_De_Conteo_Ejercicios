{
 "cells": [
  {
   "cell_type": "markdown",
   "id": "647a5bcc-4c19-4473-b2f2-b50331982717",
   "metadata": {},
   "source": [
    "# 11. Parque vehicular.  \n",
    "La Ciudad de México tiene placas de automóviles con tres números seguidos por tres letras, es decir, son placas del tipo 999-AAA. Sin embargo, no pueden empezar con 0 (cero) ni se utilizan las letras I, O, Q y Ñ."
   ]
  },
  {
   "cell_type": "markdown",
   "id": "61d5d3bd-cd62-42e2-8661-906f032d0ac7",
   "metadata": {},
   "source": [
    "### a) ¿Cuántas placas diferentes son posibles\n",
    "Multiplicaremos los posibles numeros que se pueden ingresar en la primera sección de la placa (excluyendo el 0 en el primer número), es decir:\n",
    "$$\n",
    "\\begin{align}\n",
    "   9 \\cdot 10 \\cdot 10 = 900.\n",
    "\\end{align}\n",
    "$$\n",
    "seguidamente, aplicaremos la misma logica para las letras, (eliminando las letras no permitidas), entonces contamos con 23 posibles casos para cada espacio: \n",
    "$$\n",
    "\\begin{align}\n",
    "   23 \\cdot 23 \\cdot 23 = 12167.\n",
    "\\end{align}\n",
    "$$\n",
    "Los resultados se multiplican para obtener el total de placas.\n",
    "$$\n",
    "\\begin{align}\n",
    "   900 \\cdot 12167 = 10950300.\n",
    "\\end{align}\n",
    "$$\n",
    "Por lo tanto, hay ***10,950,300*** posibles placas diferentes."
   ]
  },
  {
   "cell_type": "code",
   "execution_count": 1,
   "id": "1477d5ab-ec2c-47f2-9612-c4ba9012faf3",
   "metadata": {},
   "outputs": [
    {
     "name": "stdout",
     "output_type": "stream",
     "text": [
      "La cantidad de placas diferentes es: 10950300\n"
     ]
    }
   ],
   "source": [
    "num_posib = 9 * 10 * 10\n",
    "letr_posib = 23 * 23 * 23\n",
    "placas = num_posib * letr_posib\n",
    "print(f'La cantidad de placas diferentes es: {placas}')"
   ]
  },
  {
   "cell_type": "markdown",
   "id": "4986ebf4-d488-4cc2-996d-1f67f144f1c8",
   "metadata": {},
   "source": [
    "### b) ¿Cuántas placas diferentes terminan en vocal?\n",
    "Se multiplican las 23 letras de la primera seccion y las 23 de la segunda, por las vocales que se pueden usar, las cuales son 3.\n",
    "$$\n",
    "\\begin{align}\n",
    "   23 \\cdot 23 \\cdot 3 = 1587.\n",
    "\\end{align}\n",
    "$$\n",
    "A continuación se multiplica el resultado de las letras con el resultado de las letras posibles ***900***\n",
    "$$\n",
    "\\begin{align}\n",
    "   1587 \\cdot 900 = 1428300.\n",
    "\\end{align}\n",
    "$$\n",
    "Por lo tanto, la cantidad de placas que terminan en vocal son: ***1,428,300***"
   ]
  },
  {
   "cell_type": "code",
   "execution_count": 2,
   "id": "deec32a6-3b4e-4654-ae65-4ed45b596653",
   "metadata": {},
   "outputs": [
    {
     "name": "stdout",
     "output_type": "stream",
     "text": [
      "La cantidad de placas que terminan en vocal es: 1428300\n"
     ]
    }
   ],
   "source": [
    "ltr_vocl = 23 * 23 * 3\n",
    "placas_vocl = ltr_vocl * 900\n",
    "print(f'La cantidad de placas que terminan en vocal es: {placas_vocl}')"
   ]
  },
  {
   "cell_type": "markdown",
   "id": "961c4ad2-1b3e-4878-9268-1f04979dff2b",
   "metadata": {},
   "source": [
    "### c) ¿Cuál es la probabilidad de que una placa, elegida al azar, sea impar\n",
    "Primeramente, se debe calcular la cantidad impar posible de numeros, para ello, multiplicaremos las los posibles numeros del primer apartado (9), por los del segundo apartado (10), por el trecer apartado que llevara los posibles numeros impares (5)\n",
    "$$\n",
    "\\begin{align}\n",
    "   9 \\cdot 10 \\cdot 5 = 450.\n",
    "\\end{align}\n",
    "$$\n",
    "el resutado se divide entre la cantidad de numeros posibles, quedando de la siguiente forma:\n",
    "$$\n",
    "\\begin{align}\n",
    "   450 \\div 900 = 0.5.\n",
    "\\end{align}\n",
    "$$\n",
    "Entonces, la probabilidad de que una placa elegida al azar sea impar es de: ***0.5 o 50%***"
   ]
  },
  {
   "cell_type": "code",
   "execution_count": 3,
   "id": "30eb2b8e-2db7-4696-bad0-945b400d0c13",
   "metadata": {},
   "outputs": [
    {
     "name": "stdout",
     "output_type": "stream",
     "text": [
      "La propbabilidad que una placa al azar sea impar es: 0.5\n"
     ]
    }
   ],
   "source": [
    "num_azar = 9 * 10 * 5\n",
    "placas_azar = num_azar / 900\n",
    "print(f'La propbabilidad que una placa al azar sea impar es: {placas_azar}')"
   ]
  }
 ],
 "metadata": {
  "kernelspec": {
   "display_name": "Python 3 (ipykernel)",
   "language": "python",
   "name": "python3"
  },
  "language_info": {
   "codemirror_mode": {
    "name": "ipython",
    "version": 3
   },
   "file_extension": ".py",
   "mimetype": "text/x-python",
   "name": "python",
   "nbconvert_exporter": "python",
   "pygments_lexer": "ipython3",
   "version": "3.12.4"
  }
 },
 "nbformat": 4,
 "nbformat_minor": 5
}
